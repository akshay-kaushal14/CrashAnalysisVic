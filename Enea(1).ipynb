{
  "nbformat": 4,
  "nbformat_minor": 0,
  "metadata": {
    "kernelspec": {
      "display_name": "Python 3",
      "language": "python",
      "name": "python3"
    },
    "language_info": {
      "codemirror_mode": {
        "name": "ipython",
        "version": 3
      },
      "file_extension": ".py",
      "mimetype": "text/x-python",
      "name": "python",
      "nbconvert_exporter": "python",
      "pygments_lexer": "ipython3",
      "version": "3.8.5"
    },
    "colab": {
      "name": "Enea(1).ipynb",
      "provenance": [],
      "collapsed_sections": [
        "KG4cF4nwT8PD",
        "NT4Qv8cBbcQJ",
        "2QyT--1GVuFy",
        "rGYFGjXLVq2p",
        "_lXtGKvhbUmY",
        "221GOTtia7yS"
      ],
      "include_colab_link": true
    }
  },
  "cells": [
    {
      "cell_type": "markdown",
      "metadata": {
        "id": "view-in-github",
        "colab_type": "text"
      },
      "source": [
        "<a href=\"https://colab.research.google.com/github/akshay-kaushal14/CrashAnalysisVic/blob/main/Enea(1).ipynb\" target=\"_parent\"><img src=\"https://colab.research.google.com/assets/colab-badge.svg\" alt=\"Open In Colab\"/></a>"
      ]
    },
    {
      "cell_type": "code",
      "metadata": {
        "colab": {
          "base_uri": "https://localhost:8080/"
        },
        "id": "VYRbV2rSa2P5",
        "outputId": "35711b72-82c6-4cca-8fb9-a963b4798844"
      },
      "source": [
        "from google.colab import drive\n",
        "drive.mount('/content/drive')"
      ],
      "execution_count": null,
      "outputs": [
        {
          "output_type": "stream",
          "name": "stdout",
          "text": [
            "Mounted at /content/drive\n"
          ]
        }
      ]
    },
    {
      "cell_type": "markdown",
      "metadata": {
        "id": "faP6WeUVof6G"
      },
      "source": [
        "#Importing libraries"
      ]
    },
    {
      "cell_type": "code",
      "metadata": {
        "id": "Nf0dY12uW6GS"
      },
      "source": [
        "import pandas as pd\n",
        "import numpy as np\n",
        "import seaborn as sns\n",
        "import matplotlib.pyplot as plt\n",
        "from scipy import stats"
      ],
      "execution_count": null,
      "outputs": []
    },
    {
      "cell_type": "markdown",
      "metadata": {
        "id": "qs-DF0AOvHjT"
      },
      "source": [
        "#Reading files"
      ]
    },
    {
      "cell_type": "code",
      "metadata": {
        "id": "u_vkJvwpW6GX"
      },
      "source": [
        "# Read Files 2000 - 2005\n",
        "accident_df = pd.read_csv(\"/content/drive/MyDrive/Enea/ACCIDENT.csv\")\n",
        "accident_location_df = pd.read_csv(\"/content/drive/MyDrive/Enea/ACCIDENT_LOCATION.csv\")\n",
        "node_df = pd.read_csv(\"/content/drive/MyDrive/Enea/NODE.csv\")\n",
        "person_df = pd.read_csv(\"/content/drive/MyDrive/Enea/PERSON.csv\")\n",
        "vehicle_df = pd.read_csv(\"/content/drive/MyDrive/Enea/VEHICLE.csv\")"
      ],
      "execution_count": null,
      "outputs": []
    },
    {
      "cell_type": "code",
      "metadata": {
        "id": "2pHfJm2XW6GY"
      },
      "source": [
        "# Read Files 2006 - 2020\n",
        "accident_2020_df = pd.read_csv(\"/content/drive/MyDrive/Enea/ACCIDENT NOT 2000-2005/ACCIDENT_new.csv\")\n",
        "accident_location_2020_df = pd.read_csv(\"/content/drive/MyDrive/Enea/ACCIDENT NOT 2000-2005/ACCIDENT_LOCATION.csv\")\n",
        "node_2020_df = pd.read_csv(\"/content/drive/MyDrive/Enea/ACCIDENT NOT 2000-2005/NODE.csv\")\n",
        "person_2020_df = pd.read_csv(\"/content/drive/MyDrive/Enea/ACCIDENT NOT 2000-2005/PERSON.csv\")\n",
        "vehicle_2020_df = pd.read_csv(\"/content/drive/MyDrive/Enea/ACCIDENT NOT 2000-2005/VEHICLE.csv\")"
      ],
      "execution_count": null,
      "outputs": []
    },
    {
      "cell_type": "markdown",
      "metadata": {
        "id": "-TaAAUWAvWDV"
      },
      "source": [
        "#Data Exploration"
      ]
    },
    {
      "cell_type": "markdown",
      "metadata": {
        "id": "uxQisZHVW6GZ"
      },
      "source": [
        "##Cleaning data\n",
        "\n",
        "This section mostly focuses on cleaning data \n",
        "- Checking for nulls\n",
        "- Checking for Missing Values"
      ]
    },
    {
      "cell_type": "markdown",
      "metadata": {
        "id": "aGmOlhW3wvX8"
      },
      "source": [
        "### Checking for nulls"
      ]
    },
    {
      "cell_type": "code",
      "metadata": {
        "colab": {
          "base_uri": "https://localhost:8080/",
          "height": 1000
        },
        "id": "OdSek1F8W6Gb",
        "outputId": "650982fd-9b26-4a7c-cc12-2a64559e77cf"
      },
      "source": [
        "total = accident_df.isnull().sum().sort_values(ascending=False)\n",
        "percent = (accident_df.isnull().sum().isnull().sum()/accident_df.isnull().count()).sort_values(ascending=False)\n",
        "missing_data = pd.concat([total, percent], axis=1, keys=['Total', 'Percent'])\n",
        "missing_data"
      ],
      "execution_count": null,
      "outputs": [
        {
          "output_type": "execute_result",
          "data": {
            "text/html": [
              "<div>\n",
              "<style scoped>\n",
              "    .dataframe tbody tr th:only-of-type {\n",
              "        vertical-align: middle;\n",
              "    }\n",
              "\n",
              "    .dataframe tbody tr th {\n",
              "        vertical-align: top;\n",
              "    }\n",
              "\n",
              "    .dataframe thead th {\n",
              "        text-align: right;\n",
              "    }\n",
              "</style>\n",
              "<table border=\"1\" class=\"dataframe\">\n",
              "  <thead>\n",
              "    <tr style=\"text-align: right;\">\n",
              "      <th></th>\n",
              "      <th>Total</th>\n",
              "      <th>Percent</th>\n",
              "    </tr>\n",
              "  </thead>\n",
              "  <tbody>\n",
              "    <tr>\n",
              "      <th>season</th>\n",
              "      <td>0</td>\n",
              "      <td>0.0</td>\n",
              "    </tr>\n",
              "    <tr>\n",
              "      <th>DCA Description</th>\n",
              "      <td>0</td>\n",
              "      <td>0.0</td>\n",
              "    </tr>\n",
              "    <tr>\n",
              "      <th>LIGHT_CONDITION</th>\n",
              "      <td>0</td>\n",
              "      <td>0.0</td>\n",
              "    </tr>\n",
              "    <tr>\n",
              "      <th>GRID_REFERENCE_Y</th>\n",
              "      <td>0</td>\n",
              "      <td>0.0</td>\n",
              "    </tr>\n",
              "    <tr>\n",
              "      <th>GRID_REFERENCE_X</th>\n",
              "      <td>0</td>\n",
              "      <td>0.0</td>\n",
              "    </tr>\n",
              "    <tr>\n",
              "      <th>PAGE</th>\n",
              "      <td>0</td>\n",
              "      <td>0.0</td>\n",
              "    </tr>\n",
              "    <tr>\n",
              "      <th>EDITION</th>\n",
              "      <td>0</td>\n",
              "      <td>0.0</td>\n",
              "    </tr>\n",
              "    <tr>\n",
              "      <th>DIRECTORY</th>\n",
              "      <td>0</td>\n",
              "      <td>0.0</td>\n",
              "    </tr>\n",
              "    <tr>\n",
              "      <th>DCA_CODE</th>\n",
              "      <td>0</td>\n",
              "      <td>0.0</td>\n",
              "    </tr>\n",
              "    <tr>\n",
              "      <th>NODE_ID</th>\n",
              "      <td>0</td>\n",
              "      <td>0.0</td>\n",
              "    </tr>\n",
              "    <tr>\n",
              "      <th>Day Week Description</th>\n",
              "      <td>0</td>\n",
              "      <td>0.0</td>\n",
              "    </tr>\n",
              "    <tr>\n",
              "      <th>DAY_OF_WEEK</th>\n",
              "      <td>0</td>\n",
              "      <td>0.0</td>\n",
              "    </tr>\n",
              "    <tr>\n",
              "      <th>Accident Type Desc</th>\n",
              "      <td>0</td>\n",
              "      <td>0.0</td>\n",
              "    </tr>\n",
              "    <tr>\n",
              "      <th>ACCIDENT_TYPE</th>\n",
              "      <td>0</td>\n",
              "      <td>0.0</td>\n",
              "    </tr>\n",
              "    <tr>\n",
              "      <th>ACCIDENTTIME</th>\n",
              "      <td>0</td>\n",
              "      <td>0.0</td>\n",
              "    </tr>\n",
              "    <tr>\n",
              "      <th>ACCIDENTDATE</th>\n",
              "      <td>0</td>\n",
              "      <td>0.0</td>\n",
              "    </tr>\n",
              "    <tr>\n",
              "      <th>Light Condition Desc</th>\n",
              "      <td>0</td>\n",
              "      <td>0.0</td>\n",
              "    </tr>\n",
              "    <tr>\n",
              "      <th>NO_OF_VEHICLES</th>\n",
              "      <td>0</td>\n",
              "      <td>0.0</td>\n",
              "    </tr>\n",
              "    <tr>\n",
              "      <th>year</th>\n",
              "      <td>0</td>\n",
              "      <td>0.0</td>\n",
              "    </tr>\n",
              "    <tr>\n",
              "      <th>SEVERITY</th>\n",
              "      <td>0</td>\n",
              "      <td>0.0</td>\n",
              "    </tr>\n",
              "    <tr>\n",
              "      <th>month</th>\n",
              "      <td>0</td>\n",
              "      <td>0.0</td>\n",
              "    </tr>\n",
              "    <tr>\n",
              "      <th>TIME_OF_DAY</th>\n",
              "      <td>0</td>\n",
              "      <td>0.0</td>\n",
              "    </tr>\n",
              "    <tr>\n",
              "      <th>Postcode No</th>\n",
              "      <td>0</td>\n",
              "      <td>0.0</td>\n",
              "    </tr>\n",
              "    <tr>\n",
              "      <th>LGA_NAME</th>\n",
              "      <td>0</td>\n",
              "      <td>0.0</td>\n",
              "    </tr>\n",
              "    <tr>\n",
              "      <th>ROAD_TYPE</th>\n",
              "      <td>0</td>\n",
              "      <td>0.0</td>\n",
              "    </tr>\n",
              "    <tr>\n",
              "      <th>SPEED_ZONE</th>\n",
              "      <td>0</td>\n",
              "      <td>0.0</td>\n",
              "    </tr>\n",
              "    <tr>\n",
              "      <th>Road Geometry Desc</th>\n",
              "      <td>0</td>\n",
              "      <td>0.0</td>\n",
              "    </tr>\n",
              "    <tr>\n",
              "      <th>NO_PERSONS</th>\n",
              "      <td>0</td>\n",
              "      <td>0.0</td>\n",
              "    </tr>\n",
              "    <tr>\n",
              "      <th>ROAD_GEOMETRY</th>\n",
              "      <td>0</td>\n",
              "      <td>0.0</td>\n",
              "    </tr>\n",
              "    <tr>\n",
              "      <th>POLICE_ATTEND</th>\n",
              "      <td>0</td>\n",
              "      <td>0.0</td>\n",
              "    </tr>\n",
              "    <tr>\n",
              "      <th>NO_PERSONS_NOT_INJ</th>\n",
              "      <td>0</td>\n",
              "      <td>0.0</td>\n",
              "    </tr>\n",
              "    <tr>\n",
              "      <th>NO_PERSONS_KILLED</th>\n",
              "      <td>0</td>\n",
              "      <td>0.0</td>\n",
              "    </tr>\n",
              "    <tr>\n",
              "      <th>NO_PERSONS_INJ_3</th>\n",
              "      <td>0</td>\n",
              "      <td>0.0</td>\n",
              "    </tr>\n",
              "    <tr>\n",
              "      <th>NO_PERSONS_INJ_2</th>\n",
              "      <td>0</td>\n",
              "      <td>0.0</td>\n",
              "    </tr>\n",
              "    <tr>\n",
              "      <th>ACCIDENT_NO</th>\n",
              "      <td>0</td>\n",
              "      <td>0.0</td>\n",
              "    </tr>\n",
              "  </tbody>\n",
              "</table>\n",
              "</div>"
            ],
            "text/plain": [
              "                      Total  Percent\n",
              "season                    0      0.0\n",
              "DCA Description           0      0.0\n",
              "LIGHT_CONDITION           0      0.0\n",
              "GRID_REFERENCE_Y          0      0.0\n",
              "GRID_REFERENCE_X          0      0.0\n",
              "PAGE                      0      0.0\n",
              "EDITION                   0      0.0\n",
              "DIRECTORY                 0      0.0\n",
              "DCA_CODE                  0      0.0\n",
              "NODE_ID                   0      0.0\n",
              "Day Week Description      0      0.0\n",
              "DAY_OF_WEEK               0      0.0\n",
              "Accident Type Desc        0      0.0\n",
              "ACCIDENT_TYPE             0      0.0\n",
              "ACCIDENTTIME              0      0.0\n",
              "ACCIDENTDATE              0      0.0\n",
              "Light Condition Desc      0      0.0\n",
              "NO_OF_VEHICLES            0      0.0\n",
              "year                      0      0.0\n",
              "SEVERITY                  0      0.0\n",
              "month                     0      0.0\n",
              "TIME_OF_DAY               0      0.0\n",
              "Postcode No               0      0.0\n",
              "LGA_NAME                  0      0.0\n",
              "ROAD_TYPE                 0      0.0\n",
              "SPEED_ZONE                0      0.0\n",
              "Road Geometry Desc        0      0.0\n",
              "NO_PERSONS                0      0.0\n",
              "ROAD_GEOMETRY             0      0.0\n",
              "POLICE_ATTEND             0      0.0\n",
              "NO_PERSONS_NOT_INJ        0      0.0\n",
              "NO_PERSONS_KILLED         0      0.0\n",
              "NO_PERSONS_INJ_3          0      0.0\n",
              "NO_PERSONS_INJ_2          0      0.0\n",
              "ACCIDENT_NO               0      0.0"
            ]
          },
          "metadata": {},
          "execution_count": 193
        }
      ]
    },
    {
      "cell_type": "code",
      "metadata": {
        "id": "zYJ6BP0KW6Gd",
        "colab": {
          "base_uri": "https://localhost:8080/"
        },
        "outputId": "043f28d6-6d7f-430e-ca0d-678535a791f2"
      },
      "source": [
        "total = accident_location_df.isnull().sum().sort_values(ascending=False)\n",
        "percent = (accident_location_df.isnull().sum().isnull().sum()/accident_location_df.isnull().count()).sort_values(ascending=False)\n",
        "missing_data = pd.concat([total, percent], axis=1, keys=['Total', 'Percent'])\n",
        "missing_data"
      ],
      "execution_count": null,
      "outputs": [
        {
          "output_type": "execute_result",
          "data": {
            "text/plain": [
              "ACCIDENT_NO                0\n",
              "NODE_ID                    0\n",
              "ROAD_ROUTE_1             107\n",
              "ROAD_NAME                729\n",
              "ROAD_TYPE               1778\n",
              "ROAD_NAME_INT           1251\n",
              "ROAD_TYPE_INT           1251\n",
              "DISTANCE_LOCATION        107\n",
              "DIRECTION_LOCATION       107\n",
              "NEAREST_KM_POST       103061\n",
              "OFF_ROAD_LOCATION     102307\n",
              "dtype: int64"
            ]
          },
          "metadata": {},
          "execution_count": 6
        }
      ]
    },
    {
      "cell_type": "code",
      "metadata": {
        "id": "cF7fOvelW6Ge",
        "colab": {
          "base_uri": "https://localhost:8080/"
        },
        "outputId": "b206dcfc-ff16-4ed9-d375-9a94ea6e5dd0"
      },
      "source": [
        "total = node_df.isnull().sum().sort_values(ascending=False)\n",
        "percent = (node_df.isnull().sum().isnull().sum()/node_df.isnull().count()).sort_values(ascending=False)\n",
        "missing_data = pd.concat([total, percent], axis=1, keys=['Total', 'Percent'])\n",
        "missing_data"
      ],
      "execution_count": null,
      "outputs": [
        {
          "output_type": "execute_result",
          "data": {
            "text/plain": [
              "ACCIDENT_NO       0\n",
              "NODE_ID           0\n",
              "NODE_TYPE         0\n",
              "AMG_X             0\n",
              "AMG_Y             0\n",
              "LGA_NAME          0\n",
              "Region Name       0\n",
              "Deg Urban Name    0\n",
              "Lat               0\n",
              "Long              0\n",
              "Postcode No       0\n",
              "dtype: int64"
            ]
          },
          "metadata": {},
          "execution_count": 7
        }
      ]
    },
    {
      "cell_type": "code",
      "metadata": {
        "id": "sVutpw0eW6Gf",
        "colab": {
          "base_uri": "https://localhost:8080/"
        },
        "outputId": "a223093b-667c-44a0-9cb6-8b3e7a6704b7"
      },
      "source": [
        "total = person_df.isnull().sum().sort_values(ascending=False)\n",
        "percent = (person_df.isnull().sum().isnull().sum()/person_df.isnull().count()).sort_values(ascending=False)\n",
        "missing_data = pd.concat([total, percent], axis=1, keys=['Total', 'Percent'])\n",
        "missing_data"
      ],
      "execution_count": null,
      "outputs": [
        {
          "output_type": "execute_result",
          "data": {
            "text/plain": [
              "ACCIDENT_NO                0\n",
              "PERSON_ID                  0\n",
              "VEHICLE_ID                 0\n",
              "SEX                        0\n",
              "AGE                    16514\n",
              "Age Group                  0\n",
              "INJ_LEVEL                  0\n",
              "Inj Level Desc             0\n",
              "SEATING_POSITION       10425\n",
              "HELMET_BELT_WORN           0\n",
              "ROAD_USER_TYPE             0\n",
              "Road User Type Desc        0\n",
              "LICENCE_STATE              0\n",
              "PEDEST_MOVEMENT            0\n",
              "POSTCODE               99685\n",
              "TAKEN_HOSPITAL             0\n",
              "EJECTED_CODE               0\n",
              "dtype: int64"
            ]
          },
          "metadata": {},
          "execution_count": 8
        }
      ]
    },
    {
      "cell_type": "code",
      "metadata": {
        "id": "rAvbbrktW6Gg",
        "colab": {
          "base_uri": "https://localhost:8080/"
        },
        "outputId": "a330f6a5-4b25-43eb-d9ea-4a7eb9803c0f"
      },
      "source": [
        "total = vehicle_df.isnull().sum().sort_values(ascending=False)\n",
        "percent = (vehicle_df.isnull().sum().isnull().sum()/vehicle_df.isnull().count()).sort_values(ascending=False)\n",
        "missing_data = pd.concat([total, percent], axis=1, keys=['Total', 'Percent'])\n",
        "missing_data"
      ],
      "execution_count": null,
      "outputs": [
        {
          "output_type": "execute_result",
          "data": {
            "text/plain": [
              "ACCIDENT_NO                    0\n",
              "VEHICLE_ID                     0\n",
              "VEHICLE_YEAR_MANUF         16600\n",
              "VEHICLE_DCA_CODE               0\n",
              "INITIAL_DIRECTION              0\n",
              "ROAD_SURFACE_TYPE              0\n",
              "Road Surface Type Desc         0\n",
              "REG_STATE                      0\n",
              "VEHICLE_BODY_STYLE             0\n",
              "VEHICLE_MAKE                   0\n",
              "VEHICLE_MODEL                  0\n",
              "VEHICLE_POWER              79083\n",
              "VEHICLE_TYPE                   0\n",
              "Vehicle Type Desc              0\n",
              "VEHICLE_WEIGHT            184754\n",
              "CONSTRUCTION_TYPE              0\n",
              "FUEL_TYPE                      0\n",
              "NO_OF_WHEELS               32684\n",
              "NO_OF_CYLINDERS            58312\n",
              "SEATING_CAPACITY           32680\n",
              "TARE_WEIGHT                30280\n",
              "TOTAL_NO_OCCUPANTS             0\n",
              "CARRY_CAPACITY             30533\n",
              "CUBIC_CAPACITY            179476\n",
              "FINAL_DIRECTION                0\n",
              "DRIVER_INTENT                  0\n",
              "VEHICLE_MOVEMENT               0\n",
              "TRAILER_TYPE                   0\n",
              "VEHICLE_COLOUR_1               0\n",
              "VEHICLE_COLOUR_2               0\n",
              "CAUGHT_FIRE                    0\n",
              "INITIAL_IMPACT                 0\n",
              "LAMPS                          0\n",
              "LEVEL_OF_DAMAGE                0\n",
              "OWNER_POSTCODE             19630\n",
              "TOWED_AWAY_FLAG                0\n",
              "TRAFFIC_CONTROL                0\n",
              "Traffic Control Desc           0\n",
              "dtype: int64"
            ]
          },
          "metadata": {},
          "execution_count": 9
        }
      ]
    },
    {
      "cell_type": "code",
      "metadata": {
        "id": "Ga3vMJIZW6Gg",
        "colab": {
          "base_uri": "https://localhost:8080/"
        },
        "outputId": "bdc77db3-2a44-4733-de6c-6d952b079197"
      },
      "source": [
        "total = accident_2020_df.isnull().sum().sort_values(ascending=False)\n",
        "percent = (accident_2020_df.isnull().sum().isnull().sum()/accident_2020_df.isnull().count()).sort_values(ascending=False)\n",
        "missing_data = pd.concat([total, percent], axis=1, keys=['Total', 'Percent'])\n",
        "missing_data"
      ],
      "execution_count": null,
      "outputs": [
        {
          "output_type": "execute_result",
          "data": {
            "text/plain": [
              "ACCIDENT_NO                0\n",
              "ACCIDENTDATE               0\n",
              "ACCIDENTTIME               0\n",
              "ACCIDENT_TYPE              0\n",
              "Accident Type Desc         0\n",
              "DAY_OF_WEEK                0\n",
              "Day Week Description       0\n",
              "DCA_CODE                   0\n",
              "DCA Description            0\n",
              "DIRECTORY               2348\n",
              "EDITION                 2348\n",
              "PAGE                    2348\n",
              "GRID_REFERENCE_X        2348\n",
              "GRID_REFERENCE_Y        2348\n",
              "LIGHT_CONDITION            0\n",
              "Light Condition Desc       0\n",
              "NODE_ID                    0\n",
              "NO_OF_VEHICLES             0\n",
              "NO_PERSONS                 0\n",
              "NO_PERSONS_INJ_2           0\n",
              "NO_PERSONS_INJ_3           0\n",
              "NO_PERSONS_KILLED          0\n",
              "NO_PERSONS_NOT_INJ         0\n",
              "POLICE_ATTEND              0\n",
              "ROAD_GEOMETRY              0\n",
              "Road Geometry Desc         0\n",
              "SEVERITY                   0\n",
              "SPEED_ZONE                 0\n",
              "dtype: int64"
            ]
          },
          "metadata": {},
          "execution_count": 10
        }
      ]
    },
    {
      "cell_type": "code",
      "metadata": {
        "id": "mN_bO15TW6Gh",
        "colab": {
          "base_uri": "https://localhost:8080/"
        },
        "outputId": "23f911ea-0fcf-4023-da40-7fede4a3a22d"
      },
      "source": [
        "total = accident_location_2020_df.isnull().sum().sort_values(ascending=False)\n",
        "percent = (accident_location_2020_df.isnull().sum().isnull().sum()/accident_location_2020_df.isnull().count()).sort_values(ascending=False)\n",
        "missing_data = pd.concat([total, percent], axis=1, keys=['Total', 'Percent'])\n",
        "missing_data"
      ],
      "execution_count": null,
      "outputs": [
        {
          "output_type": "execute_result",
          "data": {
            "text/plain": [
              "ACCIDENT_NO                0\n",
              "NODE_ID                    0\n",
              "ROAD_ROUTE_1             830\n",
              "ROAD_NAME               1006\n",
              "ROAD_TYPE               3399\n",
              "ROAD_NAME_INT           1822\n",
              "ROAD_TYPE_INT           3497\n",
              "DISTANCE_LOCATION        830\n",
              "DIRECTION_LOCATION       830\n",
              "NEAREST_KM_POST       203663\n",
              "OFF_ROAD_LOCATION     181784\n",
              "dtype: int64"
            ]
          },
          "metadata": {},
          "execution_count": 11
        }
      ]
    },
    {
      "cell_type": "code",
      "metadata": {
        "id": "4E6WVJdvW6Gh",
        "colab": {
          "base_uri": "https://localhost:8080/"
        },
        "outputId": "5cfc2bbf-333b-4809-a3ae-62eaa1f9bbe6"
      },
      "source": [
        "total = node_2020_df.isnull().sum().sort_values(ascending=False)\n",
        "percent = (node_2020_df.isnull().sum().isnull().sum()/node_2020_df.isnull().count()).sort_values(ascending=False)\n",
        "missing_data = pd.concat([total, percent], axis=1, keys=['Total', 'Percent'])\n",
        "missing_data"
      ],
      "execution_count": null,
      "outputs": [
        {
          "output_type": "execute_result",
          "data": {
            "text/plain": [
              "ACCIDENT_NO       0\n",
              "NODE_ID           0\n",
              "NODE_TYPE         0\n",
              "VICGRID94_X       0\n",
              "VICGRID94_Y       0\n",
              "LGA_NAME          0\n",
              "LGA_NAME_ALL      0\n",
              "REGION_NAME       0\n",
              "DEG_URBAN_NAME    0\n",
              "Lat               0\n",
              "Long              0\n",
              "POSTCODE_NO       0\n",
              "dtype: int64"
            ]
          },
          "metadata": {},
          "execution_count": 12
        }
      ]
    },
    {
      "cell_type": "code",
      "metadata": {
        "id": "-IyJ9TYlW6Gi",
        "colab": {
          "base_uri": "https://localhost:8080/"
        },
        "outputId": "196af0e0-f898-4b08-8bc1-6cd39ad532f6"
      },
      "source": [
        "total = person_2020_df.isnull().sum().sort_values(ascending=False)\n",
        "percent = (person_2020_df.isnull().sum().isnull().sum()/person_2020_df.isnull().count()).sort_values(ascending=False)\n",
        "missing_data = pd.concat([total, percent], axis=1, keys=['Total', 'Percent'])\n",
        "missing_data"
      ],
      "execution_count": null,
      "outputs": [
        {
          "output_type": "execute_result",
          "data": {
            "text/plain": [
              "ACCIDENT_NO                0\n",
              "PERSON_ID                  0\n",
              "VEHICLE_ID                 0\n",
              "SEX                        0\n",
              "AGE                    21629\n",
              "Age Group                  0\n",
              "INJ_LEVEL                  0\n",
              "Inj Level Desc             0\n",
              "SEATING_POSITION       21289\n",
              "HELMET_BELT_WORN           0\n",
              "ROAD_USER_TYPE             0\n",
              "Road User Type Desc        0\n",
              "LICENCE_STATE              0\n",
              "PEDEST_MOVEMENT            0\n",
              "POSTCODE               74094\n",
              "TAKEN_HOSPITAL             0\n",
              "EJECTED_CODE               0\n",
              "dtype: int64"
            ]
          },
          "metadata": {},
          "execution_count": 13
        }
      ]
    },
    {
      "cell_type": "code",
      "metadata": {
        "id": "ZSsJLQTQW6Gi",
        "colab": {
          "base_uri": "https://localhost:8080/"
        },
        "outputId": "ea9e0ffb-66d7-4e6e-8b00-ad12c4b1f7e8"
      },
      "source": [
        "total = vehicle_2020_df.isnull().sum().sort_values(ascending=False)\n",
        "percent = (vehicle_2020_df.isnull().sum().isnull().sum()/vehicle_2020_df.isnull().count()).sort_values(ascending=False)\n",
        "missing_data = pd.concat([total, percent], axis=1, keys=['Total', 'Percent'])\n",
        "missing_data"
      ],
      "execution_count": null,
      "outputs": [
        {
          "output_type": "execute_result",
          "data": {
            "text/plain": [
              "ACCIDENT_NO                    0\n",
              "VEHICLE_ID                     0\n",
              "VEHICLE_YEAR_MANUF         22858\n",
              "VEHICLE_DCA_CODE               0\n",
              "INITIAL_DIRECTION              0\n",
              "ROAD_SURFACE_TYPE              0\n",
              "Road Surface Type Desc         0\n",
              "REG_STATE                      0\n",
              "VEHICLE_BODY_STYLE             0\n",
              "VEHICLE_MAKE                   0\n",
              "VEHICLE_MODEL                  0\n",
              "VEHICLE_POWER             365240\n",
              "VEHICLE_TYPE                   0\n",
              "Vehicle Type Desc              0\n",
              "VEHICLE_WEIGHT            319083\n",
              "CONSTRUCTION_TYPE              0\n",
              "FUEL_TYPE                      0\n",
              "NO_OF_WHEELS               71085\n",
              "NO_OF_CYLINDERS            63248\n",
              "SEATING_CAPACITY           85300\n",
              "TARE_WEIGHT                40730\n",
              "TOTAL_NO_OCCUPANTS             7\n",
              "CARRY_CAPACITY            294848\n",
              "CUBIC_CAPACITY            321920\n",
              "FINAL_DIRECTION                0\n",
              "DRIVER_INTENT                  0\n",
              "VEHICLE_MOVEMENT               0\n",
              "TRAILER_TYPE                   0\n",
              "VEHICLE_COLOUR_1               0\n",
              "VEHICLE_COLOUR_2               0\n",
              "CAUGHT_FIRE                    0\n",
              "INITIAL_IMPACT                 0\n",
              "LAMPS                          0\n",
              "LEVEL_OF_DAMAGE                0\n",
              "OWNER_POSTCODE             36004\n",
              "TOWED_AWAY_FLAG                0\n",
              "TRAFFIC_CONTROL                0\n",
              "Traffic Control Desc           0\n",
              "dtype: int64"
            ]
          },
          "metadata": {},
          "execution_count": 14
        }
      ]
    },
    {
      "cell_type": "code",
      "metadata": {
        "collapsed": true,
        "id": "ToO5jlloW6Gi"
      },
      "source": [
        "# Removing Null Columns from Accident_location_df\n",
        "accident_location_df.drop(['NEAREST_KM_POST', 'OFF_ROAD_LOCATION'], axis=1, inplace=True)\n",
        "accident_location_2020_df.drop(['NEAREST_KM_POST', 'OFF_ROAD_LOCATION'], axis=1, inplace=True)"
      ],
      "execution_count": null,
      "outputs": []
    },
    {
      "cell_type": "markdown",
      "metadata": {
        "id": "214eRVqwW6Gi"
      },
      "source": [
        "###Combining Data"
      ]
    },
    {
      "cell_type": "code",
      "metadata": {
        "id": "GjLu5txwW6Gj",
        "colab": {
          "base_uri": "https://localhost:8080/"
        },
        "outputId": "c022f8d1-c26f-4caa-b20a-fd4a183de56d"
      },
      "source": [
        "#1 ACCIDENT and ACCIDENT LOCATION\n",
        "accident_location_df_test = accident_location_df[['ACCIDENT_NO','ROAD_TYPE']]\n",
        "accident_df_road_type = accident_df.merge(accident_location_df_test, how='left', on='ACCIDENT_NO')"
      ],
      "execution_count": null,
      "outputs": [
        {
          "output_type": "stream",
          "name": "stdout",
          "text": [
            "<class 'pandas.core.frame.DataFrame'>\n",
            "Int64Index: 101057 entries, 0 to 101056\n",
            "Data columns (total 36 columns):\n",
            " #   Column                Non-Null Count   Dtype         \n",
            "---  ------                --------------   -----         \n",
            " 0   ACCIDENT_NO           101057 non-null  object        \n",
            " 1   ACCIDENTDATE          101057 non-null  datetime64[ns]\n",
            " 2   ACCIDENTTIME          101057 non-null  object        \n",
            " 3   ACCIDENT_TYPE         101057 non-null  int64         \n",
            " 4   Accident Type Desc    101057 non-null  object        \n",
            " 5   DAY_OF_WEEK           101057 non-null  int64         \n",
            " 6   Day Week Description  101057 non-null  object        \n",
            " 7   DCA_CODE              101057 non-null  int64         \n",
            " 8   DCA Description       101057 non-null  object        \n",
            " 9   DIRECTORY             101057 non-null  object        \n",
            " 10  EDITION               101057 non-null  float64       \n",
            " 11  PAGE                  101057 non-null  object        \n",
            " 12  GRID_REFERENCE_X      101057 non-null  object        \n",
            " 13  GRID_REFERENCE_Y      101057 non-null  float64       \n",
            " 14  LIGHT_CONDITION       101057 non-null  int64         \n",
            " 15  Light Condition Desc  101057 non-null  object        \n",
            " 16  NODE_ID               101057 non-null  int64         \n",
            " 17  NO_OF_VEHICLES        101057 non-null  int64         \n",
            " 18  NO_PERSONS            101057 non-null  int64         \n",
            " 19  NO_PERSONS_INJ_2      101057 non-null  int64         \n",
            " 20  NO_PERSONS_INJ_3      101057 non-null  int64         \n",
            " 21  NO_PERSONS_KILLED     101057 non-null  int64         \n",
            " 22  NO_PERSONS_NOT_INJ    101057 non-null  int64         \n",
            " 23  POLICE_ATTEND         101057 non-null  int64         \n",
            " 24  ROAD_GEOMETRY         101057 non-null  int64         \n",
            " 25  Road Geometry Desc    101057 non-null  object        \n",
            " 26  SEVERITY              101057 non-null  int64         \n",
            " 27  SPEED_ZONE            101057 non-null  int64         \n",
            " 28  ROAD_TYPE_x           101057 non-null  object        \n",
            " 29  LGA_NAME              101057 non-null  object        \n",
            " 30  Postcode No           101057 non-null  float64       \n",
            " 31  TIME_OF_DAY           101057 non-null  object        \n",
            " 32  month                 101057 non-null  int64         \n",
            " 33  year                  101057 non-null  int64         \n",
            " 34  season                101057 non-null  object        \n",
            " 35  ROAD_TYPE_y           68932 non-null   object        \n",
            "dtypes: datetime64[ns](1), float64(3), int64(17), object(15)\n",
            "memory usage: 28.5+ MB\n"
          ]
        }
      ]
    },
    {
      "cell_type": "code",
      "metadata": {
        "id": "V7kAkBGMW6Gj"
      },
      "source": [
        "#2 ACCIDENT and ACCIDENT LOCATION for Road Types\n",
        "accident_df['ROAD_TYPE'] = accident_location_df['ROAD_TYPE']\n",
        "accident_2020_df['ROAD_TYPE'] = accident_location_2020_df['ROAD_TYPE']"
      ],
      "execution_count": null,
      "outputs": []
    },
    {
      "cell_type": "code",
      "metadata": {
        "colab": {
          "base_uri": "https://localhost:8080/"
        },
        "id": "vYibZX7AW6Gj",
        "outputId": "9c3b6f63-f8ee-420f-e309-55feccf63079"
      },
      "source": [
        "#3 Check for duplicates\n",
        "node_df.duplicated(subset=['ACCIDENT_NO']).sum()\n",
        "node_2020_df.duplicated(subset=['ACCIDENT_NO']).sum()"
      ],
      "execution_count": null,
      "outputs": [
        {
          "output_type": "execute_result",
          "data": {
            "text/plain": [
              "18943"
            ]
          },
          "metadata": {},
          "execution_count": 18
        }
      ]
    },
    {
      "cell_type": "code",
      "metadata": {
        "scrolled": true,
        "id": "5h0Ne7ozW6Gj"
      },
      "source": [
        "# Remove duplicates\n",
        "node_df.drop_duplicates(subset=['ACCIDENT_NO'], inplace = True)\n",
        "node_2020_df.drop_duplicates(subset=['ACCIDENT_NO'], inplace = True)"
      ],
      "execution_count": null,
      "outputs": []
    },
    {
      "cell_type": "code",
      "metadata": {
        "id": "JE_74YMiW6Gk"
      },
      "source": [
        "# Reseting index for uniformity\n",
        "node_df.reset_index(inplace = True)\n",
        "node_df.drop(['index'], inplace= True, axis = 1)\n",
        "node_2020_df.reset_index(inplace = True)\n",
        "node_2020_df.drop(['index'], inplace= True, axis = 1)"
      ],
      "execution_count": null,
      "outputs": []
    },
    {
      "cell_type": "code",
      "metadata": {
        "id": "L0pV4PyJW6Gk"
      },
      "source": [
        "# Reseting index for uniformity\n",
        "accident_df.reset_index(inplace = True)\n",
        "accident_2020_df.reset_index(inplace = True)\n",
        "accident_df.drop(['index'], inplace= True, axis = 1)\n",
        "accident_2020_df.drop(['index'], inplace= True, axis = 1)"
      ],
      "execution_count": null,
      "outputs": []
    },
    {
      "cell_type": "code",
      "metadata": {
        "id": "-IMjQFXtW6Gl"
      },
      "source": [
        "# Subsetting Node Dataframe\n",
        "node_df_merge = node_df[['NODE_ID','LGA_NAME','Postcode No']]\n",
        "node_2020_df_merge = node_2020_df[['NODE_ID','LGA_NAME','POSTCODE_NO']]\n",
        "node_2020_df_merge.rename(columns={\"POSTCODE_NO\": \"Postcode No\"}, inplace = True)"
      ],
      "execution_count": null,
      "outputs": []
    },
    {
      "cell_type": "code",
      "metadata": {
        "id": "wgc_QBuKW6Gl"
      },
      "source": [
        "# Backing up original dataframe\n",
        "accident_df_test = accident_df\n",
        "accident_2020_df_test = accident_2020_df"
      ],
      "execution_count": null,
      "outputs": []
    },
    {
      "cell_type": "code",
      "metadata": {
        "id": "-51bBpLNW6Gm"
      },
      "source": [
        "# Combining Accident and Node for retrieving Suburb Name and Postcodes\n",
        "accident_df_1 = accident_df_test.merge(node_df_merge, how='left', on='NODE_ID')\n",
        "accident_2020_df_1 = accident_2020_df_test.merge(node_2020_df_merge, how='left', on='NODE_ID')"
      ],
      "execution_count": null,
      "outputs": []
    },
    {
      "cell_type": "code",
      "metadata": {
        "colab": {
          "base_uri": "https://localhost:8080/",
          "height": 677
        },
        "id": "gLTOtDDLEja3",
        "outputId": "02a7e3c3-030d-4f74-8419-9f27e9c219cc"
      },
      "source": [
        "# Since the nulls are relatively small, droping them\n",
        "#accident_2020_df_1.isnull().sum()\n",
        "total = accident_2020_df_1.isnull().sum().sort_values(ascending=False)\n",
        "percent = (accident_2020_df_1.isnull().sum().isnull().sum()/accident_2020_df_1.isnull().count()).sort_values(ascending=False)\n",
        "missing_data = pd.concat([total, percent], axis=1, keys=['Total', 'Percent'])\n",
        "missing_data.head(20)"
      ],
      "execution_count": null,
      "outputs": [
        {
          "output_type": "execute_result",
          "data": {
            "text/html": [
              "<div>\n",
              "<style scoped>\n",
              "    .dataframe tbody tr th:only-of-type {\n",
              "        vertical-align: middle;\n",
              "    }\n",
              "\n",
              "    .dataframe tbody tr th {\n",
              "        vertical-align: top;\n",
              "    }\n",
              "\n",
              "    .dataframe thead th {\n",
              "        text-align: right;\n",
              "    }\n",
              "</style>\n",
              "<table border=\"1\" class=\"dataframe\">\n",
              "  <thead>\n",
              "    <tr style=\"text-align: right;\">\n",
              "      <th></th>\n",
              "      <th>Total</th>\n",
              "      <th>Percent</th>\n",
              "    </tr>\n",
              "  </thead>\n",
              "  <tbody>\n",
              "    <tr>\n",
              "      <th>season</th>\n",
              "      <td>0</td>\n",
              "      <td>0.0</td>\n",
              "    </tr>\n",
              "    <tr>\n",
              "      <th>DCA Description</th>\n",
              "      <td>0</td>\n",
              "      <td>0.0</td>\n",
              "    </tr>\n",
              "    <tr>\n",
              "      <th>LIGHT_CONDITION</th>\n",
              "      <td>0</td>\n",
              "      <td>0.0</td>\n",
              "    </tr>\n",
              "    <tr>\n",
              "      <th>GRID_REFERENCE_Y</th>\n",
              "      <td>0</td>\n",
              "      <td>0.0</td>\n",
              "    </tr>\n",
              "    <tr>\n",
              "      <th>GRID_REFERENCE_X</th>\n",
              "      <td>0</td>\n",
              "      <td>0.0</td>\n",
              "    </tr>\n",
              "    <tr>\n",
              "      <th>PAGE</th>\n",
              "      <td>0</td>\n",
              "      <td>0.0</td>\n",
              "    </tr>\n",
              "    <tr>\n",
              "      <th>EDITION</th>\n",
              "      <td>0</td>\n",
              "      <td>0.0</td>\n",
              "    </tr>\n",
              "    <tr>\n",
              "      <th>DIRECTORY</th>\n",
              "      <td>0</td>\n",
              "      <td>0.0</td>\n",
              "    </tr>\n",
              "    <tr>\n",
              "      <th>DCA_CODE</th>\n",
              "      <td>0</td>\n",
              "      <td>0.0</td>\n",
              "    </tr>\n",
              "    <tr>\n",
              "      <th>NODE_ID</th>\n",
              "      <td>0</td>\n",
              "      <td>0.0</td>\n",
              "    </tr>\n",
              "    <tr>\n",
              "      <th>Day Week Description</th>\n",
              "      <td>0</td>\n",
              "      <td>0.0</td>\n",
              "    </tr>\n",
              "    <tr>\n",
              "      <th>DAY_OF_WEEK</th>\n",
              "      <td>0</td>\n",
              "      <td>0.0</td>\n",
              "    </tr>\n",
              "    <tr>\n",
              "      <th>Accident Type Desc</th>\n",
              "      <td>0</td>\n",
              "      <td>0.0</td>\n",
              "    </tr>\n",
              "    <tr>\n",
              "      <th>ACCIDENT_TYPE</th>\n",
              "      <td>0</td>\n",
              "      <td>0.0</td>\n",
              "    </tr>\n",
              "    <tr>\n",
              "      <th>ACCIDENTTIME</th>\n",
              "      <td>0</td>\n",
              "      <td>0.0</td>\n",
              "    </tr>\n",
              "    <tr>\n",
              "      <th>ACCIDENTDATE</th>\n",
              "      <td>0</td>\n",
              "      <td>0.0</td>\n",
              "    </tr>\n",
              "    <tr>\n",
              "      <th>Light Condition Desc</th>\n",
              "      <td>0</td>\n",
              "      <td>0.0</td>\n",
              "    </tr>\n",
              "    <tr>\n",
              "      <th>NO_OF_VEHICLES</th>\n",
              "      <td>0</td>\n",
              "      <td>0.0</td>\n",
              "    </tr>\n",
              "    <tr>\n",
              "      <th>year</th>\n",
              "      <td>0</td>\n",
              "      <td>0.0</td>\n",
              "    </tr>\n",
              "    <tr>\n",
              "      <th>SEVERITY</th>\n",
              "      <td>0</td>\n",
              "      <td>0.0</td>\n",
              "    </tr>\n",
              "  </tbody>\n",
              "</table>\n",
              "</div>"
            ],
            "text/plain": [
              "                      Total  Percent\n",
              "season                    0      0.0\n",
              "DCA Description           0      0.0\n",
              "LIGHT_CONDITION           0      0.0\n",
              "GRID_REFERENCE_Y          0      0.0\n",
              "GRID_REFERENCE_X          0      0.0\n",
              "PAGE                      0      0.0\n",
              "EDITION                   0      0.0\n",
              "DIRECTORY                 0      0.0\n",
              "DCA_CODE                  0      0.0\n",
              "NODE_ID                   0      0.0\n",
              "Day Week Description      0      0.0\n",
              "DAY_OF_WEEK               0      0.0\n",
              "Accident Type Desc        0      0.0\n",
              "ACCIDENT_TYPE             0      0.0\n",
              "ACCIDENTTIME              0      0.0\n",
              "ACCIDENTDATE              0      0.0\n",
              "Light Condition Desc      0      0.0\n",
              "NO_OF_VEHICLES            0      0.0\n",
              "year                      0      0.0\n",
              "SEVERITY                  0      0.0"
            ]
          },
          "metadata": {},
          "execution_count": 191
        }
      ]
    },
    {
      "cell_type": "code",
      "metadata": {
        "id": "LLuTNTtAW6Gm"
      },
      "source": [
        "# Dropping Null Values\n",
        "accident_df_1.dropna(inplace = True)\n",
        "accident_2020_df_1.dropna(inplace = True)"
      ],
      "execution_count": null,
      "outputs": []
    },
    {
      "cell_type": "code",
      "metadata": {
        "id": "cFpUyHR2W6Gm"
      },
      "source": [
        "# Drop duplicates with the same theory\n",
        "accident_df_1.drop_duplicates(subset=['ACCIDENT_NO'], inplace = True)\n",
        "accident_2020_df_1.drop_duplicates(subset=['ACCIDENT_NO'], inplace = True)"
      ],
      "execution_count": null,
      "outputs": []
    },
    {
      "cell_type": "code",
      "metadata": {
        "id": "x8RPYyBVW6Gn"
      },
      "source": [
        "# Resetting Index\n",
        "accident_df_1.reset_index(inplace = True)\n",
        "accident_df_1.drop(['index'], axis = 1, inplace = True)\n",
        "accident_2020_df_1.reset_index(inplace = True)\n",
        "accident_2020_df_1.drop(['index'], axis = 1, inplace = True)"
      ],
      "execution_count": null,
      "outputs": []
    },
    {
      "cell_type": "code",
      "metadata": {
        "id": "fbqIzdHHW6Go"
      },
      "source": [
        "# Overwriting original Dataframe\n",
        "accident_df = accident_df_1\n",
        "accident_2020_df = accident_2020_df_1"
      ],
      "execution_count": null,
      "outputs": []
    },
    {
      "cell_type": "code",
      "metadata": {
        "id": "uRZ-vNaRW6Go"
      },
      "source": [
        "#3 PERSON : Subsetting Person Dataframe\n",
        "person_df.drop(columns=['PERSON_ID','VEHICLE_ID','LICENCE_STATE','PEDEST_MOVEMENT','TAKEN_HOSPITAL','EJECTED_CODE'],inplace= True)"
      ],
      "execution_count": null,
      "outputs": []
    },
    {
      "cell_type": "code",
      "metadata": {
        "id": "n8ApwCZ6W6Go"
      },
      "source": [
        "# PERSON : Subsetting Person Dataframe\n",
        "person_2020_df.drop(columns=['PERSON_ID','VEHICLE_ID','LICENCE_STATE','PEDEST_MOVEMENT','TAKEN_HOSPITAL','EJECTED_CODE'],inplace= True)"
      ],
      "execution_count": null,
      "outputs": []
    },
    {
      "cell_type": "code",
      "metadata": {
        "id": "vEolwliFW6Go"
      },
      "source": [
        "# Chaning the date value to datetime type from string\n",
        "accident_df['ACCIDENTDATE']= pd.to_datetime(accident_df['ACCIDENTDATE'])\n",
        "accident_2020_df['ACCIDENTDATE']= pd.to_datetime(accident_2020_df['ACCIDENTDATE'])"
      ],
      "execution_count": null,
      "outputs": []
    },
    {
      "cell_type": "code",
      "metadata": {
        "id": "nN4lFGBJW6Gp"
      },
      "source": [
        "# For Analysis: Creating Time of Day column\n",
        "accident_df['TIME_OF_DAY'] = \"NA\"\n",
        "accident_2020_df['TIME_OF_DAY'] = \"NA\""
      ],
      "execution_count": null,
      "outputs": []
    },
    {
      "cell_type": "code",
      "metadata": {
        "colab": {
          "base_uri": "https://localhost:8080/"
        },
        "id": "yzRHkx9UW6Gp",
        "outputId": "b2ee3ab9-58ec-41cb-94b5-72a1a7df066e"
      },
      "source": [
        "# Creating time of day \n",
        "for i in range(len(accident_df)):\n",
        "    if accident_df['ACCIDENTTIME'][i] >= \"03.00.00\" and accident_df['ACCIDENTTIME'][i] <= \"07.00.00\":\n",
        "        accident_df['TIME_OF_DAY'][i] = \"EARLY MORNING\"\n",
        "        \n",
        "    elif accident_df['ACCIDENTTIME'][i] > \"07.00.00\" and accident_df['ACCIDENTTIME'][i] <= \"12.00.00\":\n",
        "        accident_df['TIME_OF_DAY'][i] = \"MORNING\"\n",
        "        \n",
        "    elif accident_df['ACCIDENTTIME'][i] > \"12.00.00\" and accident_df['ACCIDENTTIME'][i] <= \"16.00.00\":\n",
        "        accident_df['TIME_OF_DAY'][i] = \"MID DAY\"\n",
        "        \n",
        "    elif accident_df['ACCIDENTTIME'][i] > \"16.00.00\" and accident_df['ACCIDENTTIME'][i] <= \"22.00.00\":\n",
        "        accident_df['TIME_OF_DAY'][i] = \"EVENING\"\n",
        "        \n",
        "    else:\n",
        "        accident_df['TIME_OF_DAY'][i] = \"NIGHT\""
      ],
      "execution_count": null,
      "outputs": [
        {
          "output_type": "stream",
          "name": "stderr",
          "text": [
            "/usr/local/lib/python3.7/dist-packages/ipykernel_launcher.py:17: SettingWithCopyWarning: \n",
            "A value is trying to be set on a copy of a slice from a DataFrame\n",
            "\n",
            "See the caveats in the documentation: https://pandas.pydata.org/pandas-docs/stable/user_guide/indexing.html#returning-a-view-versus-a-copy\n",
            "/usr/local/lib/python3.7/dist-packages/ipykernel_launcher.py:14: SettingWithCopyWarning: \n",
            "A value is trying to be set on a copy of a slice from a DataFrame\n",
            "\n",
            "See the caveats in the documentation: https://pandas.pydata.org/pandas-docs/stable/user_guide/indexing.html#returning-a-view-versus-a-copy\n",
            "  \n",
            "/usr/local/lib/python3.7/dist-packages/ipykernel_launcher.py:7: SettingWithCopyWarning: \n",
            "A value is trying to be set on a copy of a slice from a DataFrame\n",
            "\n",
            "See the caveats in the documentation: https://pandas.pydata.org/pandas-docs/stable/user_guide/indexing.html#returning-a-view-versus-a-copy\n",
            "  import sys\n",
            "/usr/local/lib/python3.7/dist-packages/ipykernel_launcher.py:11: SettingWithCopyWarning: \n",
            "A value is trying to be set on a copy of a slice from a DataFrame\n",
            "\n",
            "See the caveats in the documentation: https://pandas.pydata.org/pandas-docs/stable/user_guide/indexing.html#returning-a-view-versus-a-copy\n",
            "  # This is added back by InteractiveShellApp.init_path()\n",
            "/usr/local/lib/python3.7/dist-packages/ipykernel_launcher.py:4: SettingWithCopyWarning: \n",
            "A value is trying to be set on a copy of a slice from a DataFrame\n",
            "\n",
            "See the caveats in the documentation: https://pandas.pydata.org/pandas-docs/stable/user_guide/indexing.html#returning-a-view-versus-a-copy\n",
            "  after removing the cwd from sys.path.\n"
          ]
        }
      ]
    },
    {
      "cell_type": "code",
      "metadata": {
        "colab": {
          "base_uri": "https://localhost:8080/"
        },
        "id": "GSMN9N1LW6Gp",
        "outputId": "ad89e981-9bad-493c-bd47-26671bd4bc06"
      },
      "source": [
        "# TIME OF DAY OF CRASH 2020\n",
        "for i in range(len(accident_2020_df)):\n",
        "    if accident_2020_df['ACCIDENTTIME'][i] >= \"03.00.00\" and accident_2020_df['ACCIDENTTIME'][i] <= \"07.00.00\":\n",
        "        accident_2020_df['TIME_OF_DAY'][i] = \"EARLY MORNING\"\n",
        "        \n",
        "    elif accident_2020_df['ACCIDENTTIME'][i] > \"07.00.00\" and accident_2020_df['ACCIDENTTIME'][i] <= \"12.00.00\":\n",
        "        accident_2020_df['TIME_OF_DAY'][i] = \"MORNING\"\n",
        "\n",
        "        \n",
        "    elif accident_2020_df['ACCIDENTTIME'][i] > \"12.00.00\" and accident_2020_df['ACCIDENTTIME'][i] <= \"16.00.00\":\n",
        "        accident_2020_df['TIME_OF_DAY'][i] = \"MID DAY\"\n",
        "        \n",
        "    elif accident_2020_df['ACCIDENTTIME'][i] > \"16.00.00\" and accident_2020_df['ACCIDENTTIME'][i] <= \"22.00.00\":\n",
        "        accident_2020_df['TIME_OF_DAY'][i] = \"EVENING\"\n",
        "        \n",
        "    else:\n",
        "        accident_2020_df['TIME_OF_DAY'][i] = \"NIGHT\""
      ],
      "execution_count": null,
      "outputs": [
        {
          "output_type": "stream",
          "name": "stderr",
          "text": [
            "/usr/local/lib/python3.7/dist-packages/ipykernel_launcher.py:11: SettingWithCopyWarning: \n",
            "A value is trying to be set on a copy of a slice from a DataFrame\n",
            "\n",
            "See the caveats in the documentation: https://pandas.pydata.org/pandas-docs/stable/user_guide/indexing.html#returning-a-view-versus-a-copy\n",
            "  # This is added back by InteractiveShellApp.init_path()\n",
            "/usr/local/lib/python3.7/dist-packages/ipykernel_launcher.py:14: SettingWithCopyWarning: \n",
            "A value is trying to be set on a copy of a slice from a DataFrame\n",
            "\n",
            "See the caveats in the documentation: https://pandas.pydata.org/pandas-docs/stable/user_guide/indexing.html#returning-a-view-versus-a-copy\n",
            "  \n",
            "/usr/local/lib/python3.7/dist-packages/ipykernel_launcher.py:7: SettingWithCopyWarning: \n",
            "A value is trying to be set on a copy of a slice from a DataFrame\n",
            "\n",
            "See the caveats in the documentation: https://pandas.pydata.org/pandas-docs/stable/user_guide/indexing.html#returning-a-view-versus-a-copy\n",
            "  import sys\n",
            "/usr/local/lib/python3.7/dist-packages/ipykernel_launcher.py:17: SettingWithCopyWarning: \n",
            "A value is trying to be set on a copy of a slice from a DataFrame\n",
            "\n",
            "See the caveats in the documentation: https://pandas.pydata.org/pandas-docs/stable/user_guide/indexing.html#returning-a-view-versus-a-copy\n",
            "/usr/local/lib/python3.7/dist-packages/ipykernel_launcher.py:4: SettingWithCopyWarning: \n",
            "A value is trying to be set on a copy of a slice from a DataFrame\n",
            "\n",
            "See the caveats in the documentation: https://pandas.pydata.org/pandas-docs/stable/user_guide/indexing.html#returning-a-view-versus-a-copy\n",
            "  after removing the cwd from sys.path.\n"
          ]
        }
      ]
    },
    {
      "cell_type": "code",
      "metadata": {
        "id": "O5ahQeLyW6Gp"
      },
      "source": [
        "# Month Year seperation\n",
        "accident_df['month'] = pd.DatetimeIndex(accident_df['ACCIDENTDATE']).month\n",
        "accident_df['year'] = pd.DatetimeIndex(accident_df['ACCIDENTDATE']).year\n",
        "accident_2020_df['month'] = pd.DatetimeIndex(accident_2020_df['ACCIDENTDATE']).month\n",
        "accident_2020_df['year'] = pd.DatetimeIndex(accident_2020_df['ACCIDENTDATE']).year"
      ],
      "execution_count": null,
      "outputs": []
    },
    {
      "cell_type": "code",
      "metadata": {
        "id": "8S1yBKNVW6Gq"
      },
      "source": [
        "# INITALISE SEASON\n",
        "accident_df['season'] = 'NA'"
      ],
      "execution_count": null,
      "outputs": []
    },
    {
      "cell_type": "code",
      "metadata": {
        "id": "QKEyBL6pW6Gq"
      },
      "source": [
        "# INITALISE SEASON\n",
        "accident_2020_df['season'] = 'NA'"
      ],
      "execution_count": null,
      "outputs": []
    },
    {
      "cell_type": "code",
      "metadata": {
        "colab": {
          "base_uri": "https://localhost:8080/"
        },
        "id": "nXS7zFHiW6Gq",
        "outputId": "ff91f302-4c41-4c3b-f1dc-ebb749627c99"
      },
      "source": [
        "# ADDING SEASON TO THE DATA FRAME\n",
        "for i in range(len(accident_df)):\n",
        "    if accident_df['month'][i] >= 3 and accident_df['month'][i] < 5:\n",
        "        accident_df['season'][i] = 'AUTUMN'\n",
        "    elif accident_df['month'][i] >= 5 and accident_df['month'][i] < 8:\n",
        "        accident_df['season'][i] = 'WINTER'\n",
        "    elif accident_df['month'][i] >= 8 and accident_df['month'][i] <= 11:\n",
        "        accident_df['season'][i] = 'SPRING'\n",
        "    else:\n",
        "        accident_df['season'][i] = 'SUMMER'"
      ],
      "execution_count": null,
      "outputs": [
        {
          "output_type": "stream",
          "name": "stderr",
          "text": [
            "/usr/local/lib/python3.7/dist-packages/ipykernel_launcher.py:4: SettingWithCopyWarning: \n",
            "A value is trying to be set on a copy of a slice from a DataFrame\n",
            "\n",
            "See the caveats in the documentation: https://pandas.pydata.org/pandas-docs/stable/user_guide/indexing.html#returning-a-view-versus-a-copy\n",
            "  after removing the cwd from sys.path.\n",
            "/usr/local/lib/python3.7/dist-packages/ipykernel_launcher.py:6: SettingWithCopyWarning: \n",
            "A value is trying to be set on a copy of a slice from a DataFrame\n",
            "\n",
            "See the caveats in the documentation: https://pandas.pydata.org/pandas-docs/stable/user_guide/indexing.html#returning-a-view-versus-a-copy\n",
            "  \n",
            "/usr/local/lib/python3.7/dist-packages/ipykernel_launcher.py:10: SettingWithCopyWarning: \n",
            "A value is trying to be set on a copy of a slice from a DataFrame\n",
            "\n",
            "See the caveats in the documentation: https://pandas.pydata.org/pandas-docs/stable/user_guide/indexing.html#returning-a-view-versus-a-copy\n",
            "  # Remove the CWD from sys.path while we load stuff.\n",
            "/usr/local/lib/python3.7/dist-packages/ipykernel_launcher.py:8: SettingWithCopyWarning: \n",
            "A value is trying to be set on a copy of a slice from a DataFrame\n",
            "\n",
            "See the caveats in the documentation: https://pandas.pydata.org/pandas-docs/stable/user_guide/indexing.html#returning-a-view-versus-a-copy\n",
            "  \n"
          ]
        }
      ]
    },
    {
      "cell_type": "code",
      "metadata": {
        "colab": {
          "base_uri": "https://localhost:8080/"
        },
        "id": "J4F0MHlxW6Gq",
        "outputId": "18f42894-9180-4fe7-afe6-6309dfdfab69"
      },
      "source": [
        "# ADDING SEASON TO THE DATA FRAME\n",
        "for i in range(len(accident_2020_df)):\n",
        "    if accident_2020_df['month'][i] >= 3 and accident_2020_df['month'][i] < 5:\n",
        "        accident_2020_df['season'][i] = 'AUTUMN'\n",
        "    elif accident_2020_df['month'][i] >= 5 and accident_2020_df['month'][i] < 8:\n",
        "        accident_2020_df['season'][i] = 'WINTER'\n",
        "    elif accident_2020_df['month'][i] >= 8 and accident_2020_df['month'][i] <= 11:\n",
        "        accident_2020_df['season'][i] = 'SPRING'\n",
        "    else:\n",
        "        accident_2020_df['season'][i] = 'SUMMER'"
      ],
      "execution_count": null,
      "outputs": [
        {
          "output_type": "stream",
          "name": "stderr",
          "text": [
            "/usr/local/lib/python3.7/dist-packages/ipykernel_launcher.py:10: SettingWithCopyWarning: \n",
            "A value is trying to be set on a copy of a slice from a DataFrame\n",
            "\n",
            "See the caveats in the documentation: https://pandas.pydata.org/pandas-docs/stable/user_guide/indexing.html#returning-a-view-versus-a-copy\n",
            "  # Remove the CWD from sys.path while we load stuff.\n",
            "/usr/local/lib/python3.7/dist-packages/ipykernel_launcher.py:6: SettingWithCopyWarning: \n",
            "A value is trying to be set on a copy of a slice from a DataFrame\n",
            "\n",
            "See the caveats in the documentation: https://pandas.pydata.org/pandas-docs/stable/user_guide/indexing.html#returning-a-view-versus-a-copy\n",
            "  \n",
            "/usr/local/lib/python3.7/dist-packages/ipykernel_launcher.py:4: SettingWithCopyWarning: \n",
            "A value is trying to be set on a copy of a slice from a DataFrame\n",
            "\n",
            "See the caveats in the documentation: https://pandas.pydata.org/pandas-docs/stable/user_guide/indexing.html#returning-a-view-versus-a-copy\n",
            "  after removing the cwd from sys.path.\n",
            "/usr/local/lib/python3.7/dist-packages/ipykernel_launcher.py:8: SettingWithCopyWarning: \n",
            "A value is trying to be set on a copy of a slice from a DataFrame\n",
            "\n",
            "See the caveats in the documentation: https://pandas.pydata.org/pandas-docs/stable/user_guide/indexing.html#returning-a-view-versus-a-copy\n",
            "  \n"
          ]
        }
      ]
    },
    {
      "cell_type": "markdown",
      "metadata": {
        "id": "_s4qHCfWhbub"
      },
      "source": [
        "# Analysis of Dataframes"
      ]
    },
    {
      "cell_type": "code",
      "metadata": {
        "id": "gyfr2cmzW6Gq",
        "colab": {
          "base_uri": "https://localhost:8080/"
        },
        "outputId": "6f52a1db-1e64-4d77-e7b2-aaac875eb3f0"
      },
      "source": [
        "# CHECKING FOR MAX SPEED\n",
        "accident_final_df['SPEED_ZONE'].unique()"
      ],
      "execution_count": null,
      "outputs": [
        {
          "output_type": "execute_result",
          "data": {
            "text/plain": [
              "array([ 90,  60,  70,  80, 999, 100,  50,  40,  75, 777, 110, 888,  30])"
            ]
          },
          "metadata": {},
          "execution_count": 190
        }
      ]
    },
    {
      "cell_type": "code",
      "metadata": {
        "id": "j19oyM1jW6Gq"
      },
      "source": [
        "pd.set_option(\"display.max_rows\", None, \"display.max_columns\", None)"
      ],
      "execution_count": null,
      "outputs": []
    },
    {
      "cell_type": "code",
      "metadata": {
        "id": "NoIOnAkBW6Gr"
      },
      "source": [
        "accident_final_df = pd.concat([accident_df, accident_2020_df])"
      ],
      "execution_count": null,
      "outputs": []
    },
    {
      "cell_type": "code",
      "metadata": {
        "colab": {
          "base_uri": "https://localhost:8080/",
          "height": 643
        },
        "id": "DJhg1lEUJdGr",
        "outputId": "cfb26145-4986-48f8-eee8-da2761a73437"
      },
      "source": [
        "# Creating a Correlation matrix\n",
        "acc_corr = accident_final_df.corr()\n",
        "f, ax = plt.subplots(figsize=(12, 9))\n",
        "sns.heatmap(acc_corr, vmax=.8, square=True);"
      ],
      "execution_count": null,
      "outputs": [
        {
          "output_type": "display_data",
          "data": {
            "image/png": "[encoded data removed]",
            "text/plain": [
              "<Figure size 864x648 with 2 Axes>"
            ]
          },
          "metadata": {
            "needs_background": "light"
          }
        }
      ]
    },
    {
      "cell_type": "code",
      "metadata": {
        "id": "pj7pSzIrW6Gr"
      },
      "source": [
        "# SEASON ANALYSIS\n",
        "accident_final_df.groupby(['season','SPEED_ZONE','SEVERITY'])[['ACCIDENT_NO']].count().nlargest(10,'ACCIDENT_NO')"
      ],
      "execution_count": null,
      "outputs": []
    },
    {
      "cell_type": "code",
      "metadata": {
        "colab": {
          "base_uri": "https://localhost:8080/",
          "height": 340
        },
        "id": "KRQhKNJoMXxF",
        "outputId": "ade42730-ba3f-49fc-891c-a035cdeadb1d"
      },
      "source": [
        "# Visualising severity\n",
        "## It is clearly visible that most accidnets are severity 3 accidents\n",
        "sns.distplot(accident_final_df[['SEVERITY']]);\n",
        "fig = plt.figure()"
      ],
      "execution_count": null,
      "outputs": [
        {
          "output_type": "stream",
          "name": "stderr",
          "text": [
            "/usr/local/lib/python3.7/dist-packages/seaborn/distributions.py:2619: FutureWarning: `distplot` is a deprecated function and will be removed in a future version. Please adapt your code to use either `displot` (a figure-level function with similar flexibility) or `histplot` (an axes-level function for histograms).\n",
            "  warnings.warn(msg, FutureWarning)\n"
          ]
        },
        {
          "output_type": "display_data",
          "data": {
            "image/png": "[encoded data removed]",
            "text/plain": [
              "<Figure size 432x288 with 1 Axes>"
            ]
          },
          "metadata": {
            "needs_background": "light"
          }
        },
        {
          "output_type": "display_data",
          "data": {
            "text/plain": [
              "<Figure size 432x288 with 0 Axes>"
            ]
          },
          "metadata": {}
        }
      ]
    },
    {
      "cell_type": "code",
      "metadata": {
        "id": "_YYCymL1W6Gr",
        "colab": {
          "base_uri": "https://localhost:8080/",
          "height": 677
        },
        "outputId": "b78cb37d-c23e-4c0d-bedc-674f232b6a4f"
      },
      "source": [
        "# TIME OF DAY VS SEVERITY\n",
        "accident_final_df.groupby(by = ['TIME_OF_DAY','SEVERITY'],as_index=False)['ACCIDENT_NO'].count()"
      ],
      "execution_count": null,
      "outputs": [
        {
          "output_type": "execute_result",
          "data": {
            "text/html": [
              "<div>\n",
              "<style scoped>\n",
              "    .dataframe tbody tr th:only-of-type {\n",
              "        vertical-align: middle;\n",
              "    }\n",
              "\n",
              "    .dataframe tbody tr th {\n",
              "        vertical-align: top;\n",
              "    }\n",
              "\n",
              "    .dataframe thead th {\n",
              "        text-align: right;\n",
              "    }\n",
              "</style>\n",
              "<table border=\"1\" class=\"dataframe\">\n",
              "  <thead>\n",
              "    <tr style=\"text-align: right;\">\n",
              "      <th></th>\n",
              "      <th>TIME_OF_DAY</th>\n",
              "      <th>SEVERITY</th>\n",
              "      <th>ACCIDENT_NO</th>\n",
              "    </tr>\n",
              "  </thead>\n",
              "  <tbody>\n",
              "    <tr>\n",
              "      <th>0</th>\n",
              "      <td>EARLY MORNING</td>\n",
              "      <td>1</td>\n",
              "      <td>649</td>\n",
              "    </tr>\n",
              "    <tr>\n",
              "      <th>1</th>\n",
              "      <td>EARLY MORNING</td>\n",
              "      <td>2</td>\n",
              "      <td>7442</td>\n",
              "    </tr>\n",
              "    <tr>\n",
              "      <th>2</th>\n",
              "      <td>EARLY MORNING</td>\n",
              "      <td>3</td>\n",
              "      <td>10236</td>\n",
              "    </tr>\n",
              "    <tr>\n",
              "      <th>3</th>\n",
              "      <td>EARLY MORNING</td>\n",
              "      <td>4</td>\n",
              "      <td>12</td>\n",
              "    </tr>\n",
              "    <tr>\n",
              "      <th>4</th>\n",
              "      <td>EVENING</td>\n",
              "      <td>1</td>\n",
              "      <td>1695</td>\n",
              "    </tr>\n",
              "    <tr>\n",
              "      <th>5</th>\n",
              "      <td>EVENING</td>\n",
              "      <td>2</td>\n",
              "      <td>32460</td>\n",
              "    </tr>\n",
              "    <tr>\n",
              "      <th>6</th>\n",
              "      <td>EVENING</td>\n",
              "      <td>3</td>\n",
              "      <td>65906</td>\n",
              "    </tr>\n",
              "    <tr>\n",
              "      <th>7</th>\n",
              "      <td>EVENING</td>\n",
              "      <td>4</td>\n",
              "      <td>35</td>\n",
              "    </tr>\n",
              "    <tr>\n",
              "      <th>8</th>\n",
              "      <td>MID DAY</td>\n",
              "      <td>1</td>\n",
              "      <td>1260</td>\n",
              "    </tr>\n",
              "    <tr>\n",
              "      <th>9</th>\n",
              "      <td>MID DAY</td>\n",
              "      <td>2</td>\n",
              "      <td>24094</td>\n",
              "    </tr>\n",
              "    <tr>\n",
              "      <th>10</th>\n",
              "      <td>MID DAY</td>\n",
              "      <td>3</td>\n",
              "      <td>51738</td>\n",
              "    </tr>\n",
              "    <tr>\n",
              "      <th>11</th>\n",
              "      <td>MID DAY</td>\n",
              "      <td>4</td>\n",
              "      <td>37</td>\n",
              "    </tr>\n",
              "    <tr>\n",
              "      <th>12</th>\n",
              "      <td>MORNING</td>\n",
              "      <td>1</td>\n",
              "      <td>1109</td>\n",
              "    </tr>\n",
              "    <tr>\n",
              "      <th>13</th>\n",
              "      <td>MORNING</td>\n",
              "      <td>2</td>\n",
              "      <td>23371</td>\n",
              "    </tr>\n",
              "    <tr>\n",
              "      <th>14</th>\n",
              "      <td>MORNING</td>\n",
              "      <td>3</td>\n",
              "      <td>53692</td>\n",
              "    </tr>\n",
              "    <tr>\n",
              "      <th>15</th>\n",
              "      <td>MORNING</td>\n",
              "      <td>4</td>\n",
              "      <td>38</td>\n",
              "    </tr>\n",
              "    <tr>\n",
              "      <th>16</th>\n",
              "      <td>NIGHT</td>\n",
              "      <td>1</td>\n",
              "      <td>940</td>\n",
              "    </tr>\n",
              "    <tr>\n",
              "      <th>17</th>\n",
              "      <td>NIGHT</td>\n",
              "      <td>2</td>\n",
              "      <td>10887</td>\n",
              "    </tr>\n",
              "    <tr>\n",
              "      <th>18</th>\n",
              "      <td>NIGHT</td>\n",
              "      <td>3</td>\n",
              "      <td>14246</td>\n",
              "    </tr>\n",
              "    <tr>\n",
              "      <th>19</th>\n",
              "      <td>NIGHT</td>\n",
              "      <td>4</td>\n",
              "      <td>8</td>\n",
              "    </tr>\n",
              "  </tbody>\n",
              "</table>\n",
              "</div>"
            ],
            "text/plain": [
              "      TIME_OF_DAY  SEVERITY  ACCIDENT_NO\n",
              "0   EARLY MORNING         1          649\n",
              "1   EARLY MORNING         2         7442\n",
              "2   EARLY MORNING         3        10236\n",
              "3   EARLY MORNING         4           12\n",
              "4         EVENING         1         1695\n",
              "5         EVENING         2        32460\n",
              "6         EVENING         3        65906\n",
              "7         EVENING         4           35\n",
              "8         MID DAY         1         1260\n",
              "9         MID DAY         2        24094\n",
              "10        MID DAY         3        51738\n",
              "11        MID DAY         4           37\n",
              "12        MORNING         1         1109\n",
              "13        MORNING         2        23371\n",
              "14        MORNING         3        53692\n",
              "15        MORNING         4           38\n",
              "16          NIGHT         1          940\n",
              "17          NIGHT         2        10887\n",
              "18          NIGHT         3        14246\n",
              "19          NIGHT         4            8"
            ]
          },
          "metadata": {},
          "execution_count": 59
        }
      ]
    },
    {
      "cell_type": "code",
      "metadata": {
        "id": "4n1rbySnW6Gr",
        "colab": {
          "base_uri": "https://localhost:8080/",
          "height": 708
        },
        "outputId": "6a24ff67-cc4a-48ee-ea74-11a2ac6a4b5f"
      },
      "source": [
        "# Year Accidents\n",
        "accident_final_df.groupby(by = ['year'],as_index=False)['ACCIDENT_NO'].count()"
      ],
      "execution_count": null,
      "outputs": [
        {
          "output_type": "execute_result",
          "data": {
            "text/html": [
              "<div>\n",
              "<style scoped>\n",
              "    .dataframe tbody tr th:only-of-type {\n",
              "        vertical-align: middle;\n",
              "    }\n",
              "\n",
              "    .dataframe tbody tr th {\n",
              "        vertical-align: top;\n",
              "    }\n",
              "\n",
              "    .dataframe thead th {\n",
              "        text-align: right;\n",
              "    }\n",
              "</style>\n",
              "<table border=\"1\" class=\"dataframe\">\n",
              "  <thead>\n",
              "    <tr style=\"text-align: right;\">\n",
              "      <th></th>\n",
              "      <th>year</th>\n",
              "      <th>ACCIDENT_NO</th>\n",
              "    </tr>\n",
              "  </thead>\n",
              "  <tbody>\n",
              "    <tr>\n",
              "      <th>0</th>\n",
              "      <td>2000</td>\n",
              "      <td>17624</td>\n",
              "    </tr>\n",
              "    <tr>\n",
              "      <th>1</th>\n",
              "      <td>2001</td>\n",
              "      <td>17000</td>\n",
              "    </tr>\n",
              "    <tr>\n",
              "      <th>2</th>\n",
              "      <td>2002</td>\n",
              "      <td>17136</td>\n",
              "    </tr>\n",
              "    <tr>\n",
              "      <th>3</th>\n",
              "      <td>2003</td>\n",
              "      <td>16663</td>\n",
              "    </tr>\n",
              "    <tr>\n",
              "      <th>4</th>\n",
              "      <td>2004</td>\n",
              "      <td>16141</td>\n",
              "    </tr>\n",
              "    <tr>\n",
              "      <th>5</th>\n",
              "      <td>2005</td>\n",
              "      <td>16493</td>\n",
              "    </tr>\n",
              "    <tr>\n",
              "      <th>6</th>\n",
              "      <td>2006</td>\n",
              "      <td>13394</td>\n",
              "    </tr>\n",
              "    <tr>\n",
              "      <th>7</th>\n",
              "      <td>2007</td>\n",
              "      <td>13562</td>\n",
              "    </tr>\n",
              "    <tr>\n",
              "      <th>8</th>\n",
              "      <td>2008</td>\n",
              "      <td>13758</td>\n",
              "    </tr>\n",
              "    <tr>\n",
              "      <th>9</th>\n",
              "      <td>2009</td>\n",
              "      <td>13508</td>\n",
              "    </tr>\n",
              "    <tr>\n",
              "      <th>10</th>\n",
              "      <td>2010</td>\n",
              "      <td>13377</td>\n",
              "    </tr>\n",
              "    <tr>\n",
              "      <th>11</th>\n",
              "      <td>2011</td>\n",
              "      <td>13867</td>\n",
              "    </tr>\n",
              "    <tr>\n",
              "      <th>12</th>\n",
              "      <td>2012</td>\n",
              "      <td>13732</td>\n",
              "    </tr>\n",
              "    <tr>\n",
              "      <th>13</th>\n",
              "      <td>2013</td>\n",
              "      <td>13866</td>\n",
              "    </tr>\n",
              "    <tr>\n",
              "      <th>14</th>\n",
              "      <td>2014</td>\n",
              "      <td>14265</td>\n",
              "    </tr>\n",
              "    <tr>\n",
              "      <th>15</th>\n",
              "      <td>2015</td>\n",
              "      <td>15465</td>\n",
              "    </tr>\n",
              "    <tr>\n",
              "      <th>16</th>\n",
              "      <td>2016</td>\n",
              "      <td>15514</td>\n",
              "    </tr>\n",
              "    <tr>\n",
              "      <th>17</th>\n",
              "      <td>2017</td>\n",
              "      <td>13090</td>\n",
              "    </tr>\n",
              "    <tr>\n",
              "      <th>18</th>\n",
              "      <td>2018</td>\n",
              "      <td>12519</td>\n",
              "    </tr>\n",
              "    <tr>\n",
              "      <th>19</th>\n",
              "      <td>2019</td>\n",
              "      <td>13337</td>\n",
              "    </tr>\n",
              "    <tr>\n",
              "      <th>20</th>\n",
              "      <td>2020</td>\n",
              "      <td>5544</td>\n",
              "    </tr>\n",
              "  </tbody>\n",
              "</table>\n",
              "</div>"
            ],
            "text/plain": [
              "    year  ACCIDENT_NO\n",
              "0   2000        17624\n",
              "1   2001        17000\n",
              "2   2002        17136\n",
              "3   2003        16663\n",
              "4   2004        16141\n",
              "5   2005        16493\n",
              "6   2006        13394\n",
              "7   2007        13562\n",
              "8   2008        13758\n",
              "9   2009        13508\n",
              "10  2010        13377\n",
              "11  2011        13867\n",
              "12  2012        13732\n",
              "13  2013        13866\n",
              "14  2014        14265\n",
              "15  2015        15465\n",
              "16  2016        15514\n",
              "17  2017        13090\n",
              "18  2018        12519\n",
              "19  2019        13337\n",
              "20  2020         5544"
            ]
          },
          "metadata": {},
          "execution_count": 60
        }
      ]
    },
    {
      "cell_type": "code",
      "metadata": {
        "id": "jdnlsUxLW6Gs",
        "colab": {
          "base_uri": "https://localhost:8080/",
          "height": 363
        },
        "outputId": "ce0e6d9e-e512-48d0-e3c1-170dab63cac0"
      },
      "source": [
        "# SEASON SEVERITY\n",
        "accident_final_df.groupby(by = ['season','SEVERITY','TIME_OF_DAY'],as_index=False)['ACCIDENT_NO'].count().nlargest(10,'ACCIDENT_NO')"
      ],
      "execution_count": null,
      "outputs": [
        {
          "output_type": "execute_result",
          "data": {
            "text/html": [
              "<div>\n",
              "<style scoped>\n",
              "    .dataframe tbody tr th:only-of-type {\n",
              "        vertical-align: middle;\n",
              "    }\n",
              "\n",
              "    .dataframe tbody tr th {\n",
              "        vertical-align: top;\n",
              "    }\n",
              "\n",
              "    .dataframe thead th {\n",
              "        text-align: right;\n",
              "    }\n",
              "</style>\n",
              "<table border=\"1\" class=\"dataframe\">\n",
              "  <thead>\n",
              "    <tr style=\"text-align: right;\">\n",
              "      <th></th>\n",
              "      <th>season</th>\n",
              "      <th>SEVERITY</th>\n",
              "      <th>TIME_OF_DAY</th>\n",
              "      <th>ACCIDENT_NO</th>\n",
              "    </tr>\n",
              "  </thead>\n",
              "  <tbody>\n",
              "    <tr>\n",
              "      <th>30</th>\n",
              "      <td>SPRING</td>\n",
              "      <td>3</td>\n",
              "      <td>EVENING</td>\n",
              "      <td>21871</td>\n",
              "    </tr>\n",
              "    <tr>\n",
              "      <th>32</th>\n",
              "      <td>SPRING</td>\n",
              "      <td>3</td>\n",
              "      <td>MORNING</td>\n",
              "      <td>17838</td>\n",
              "    </tr>\n",
              "    <tr>\n",
              "      <th>31</th>\n",
              "      <td>SPRING</td>\n",
              "      <td>3</td>\n",
              "      <td>MID DAY</td>\n",
              "      <td>17440</td>\n",
              "    </tr>\n",
              "    <tr>\n",
              "      <th>70</th>\n",
              "      <td>WINTER</td>\n",
              "      <td>3</td>\n",
              "      <td>EVENING</td>\n",
              "      <td>16785</td>\n",
              "    </tr>\n",
              "    <tr>\n",
              "      <th>50</th>\n",
              "      <td>SUMMER</td>\n",
              "      <td>3</td>\n",
              "      <td>EVENING</td>\n",
              "      <td>16217</td>\n",
              "    </tr>\n",
              "    <tr>\n",
              "      <th>72</th>\n",
              "      <td>WINTER</td>\n",
              "      <td>3</td>\n",
              "      <td>MORNING</td>\n",
              "      <td>13624</td>\n",
              "    </tr>\n",
              "    <tr>\n",
              "      <th>52</th>\n",
              "      <td>SUMMER</td>\n",
              "      <td>3</td>\n",
              "      <td>MORNING</td>\n",
              "      <td>12857</td>\n",
              "    </tr>\n",
              "    <tr>\n",
              "      <th>51</th>\n",
              "      <td>SUMMER</td>\n",
              "      <td>3</td>\n",
              "      <td>MID DAY</td>\n",
              "      <td>12755</td>\n",
              "    </tr>\n",
              "    <tr>\n",
              "      <th>71</th>\n",
              "      <td>WINTER</td>\n",
              "      <td>3</td>\n",
              "      <td>MID DAY</td>\n",
              "      <td>12642</td>\n",
              "    </tr>\n",
              "    <tr>\n",
              "      <th>11</th>\n",
              "      <td>AUTUMN</td>\n",
              "      <td>3</td>\n",
              "      <td>EVENING</td>\n",
              "      <td>11033</td>\n",
              "    </tr>\n",
              "  </tbody>\n",
              "</table>\n",
              "</div>"
            ],
            "text/plain": [
              "    season  SEVERITY TIME_OF_DAY  ACCIDENT_NO\n",
              "30  SPRING         3     EVENING        21871\n",
              "32  SPRING         3     MORNING        17838\n",
              "31  SPRING         3     MID DAY        17440\n",
              "70  WINTER         3     EVENING        16785\n",
              "50  SUMMER         3     EVENING        16217\n",
              "72  WINTER         3     MORNING        13624\n",
              "52  SUMMER         3     MORNING        12857\n",
              "51  SUMMER         3     MID DAY        12755\n",
              "71  WINTER         3     MID DAY        12642\n",
              "11  AUTUMN         3     EVENING        11033"
            ]
          },
          "metadata": {},
          "execution_count": 61
        }
      ]
    },
    {
      "cell_type": "code",
      "metadata": {
        "id": "FrZ9-tHPW6Gs",
        "colab": {
          "base_uri": "https://localhost:8080/",
          "height": 363
        },
        "outputId": "d52657eb-7c30-4572-92c3-3ab713b8a5ee"
      },
      "source": [
        "# By SUBURB\n",
        "accident_final_df.groupby(by = ['LGA_NAME'],as_index=False)[['ACCIDENT_NO']].count().nlargest(10, 'ACCIDENT_NO')"
      ],
      "execution_count": null,
      "outputs": [
        {
          "output_type": "execute_result",
          "data": {
            "text/html": [
              "<div>\n",
              "<style scoped>\n",
              "    .dataframe tbody tr th:only-of-type {\n",
              "        vertical-align: middle;\n",
              "    }\n",
              "\n",
              "    .dataframe tbody tr th {\n",
              "        vertical-align: top;\n",
              "    }\n",
              "\n",
              "    .dataframe thead th {\n",
              "        text-align: right;\n",
              "    }\n",
              "</style>\n",
              "<table border=\"1\" class=\"dataframe\">\n",
              "  <thead>\n",
              "    <tr style=\"text-align: right;\">\n",
              "      <th></th>\n",
              "      <th>LGA_NAME</th>\n",
              "      <th>ACCIDENT_NO</th>\n",
              "    </tr>\n",
              "  </thead>\n",
              "  <tbody>\n",
              "    <tr>\n",
              "      <th>50</th>\n",
              "      <td>MELBOURNE</td>\n",
              "      <td>17829</td>\n",
              "    </tr>\n",
              "    <tr>\n",
              "      <th>22</th>\n",
              "      <td>CASEY</td>\n",
              "      <td>11702</td>\n",
              "    </tr>\n",
              "    <tr>\n",
              "      <th>26</th>\n",
              "      <td>DANDENONG</td>\n",
              "      <td>10623</td>\n",
              "    </tr>\n",
              "    <tr>\n",
              "      <th>31</th>\n",
              "      <td>GEELONG</td>\n",
              "      <td>10521</td>\n",
              "    </tr>\n",
              "    <tr>\n",
              "      <th>55</th>\n",
              "      <td>MONASH</td>\n",
              "      <td>9461</td>\n",
              "    </tr>\n",
              "    <tr>\n",
              "      <th>18</th>\n",
              "      <td>BRIMBANK</td>\n",
              "      <td>9273</td>\n",
              "    </tr>\n",
              "    <tr>\n",
              "      <th>86</th>\n",
              "      <td>YARRA RANGES</td>\n",
              "      <td>8908</td>\n",
              "    </tr>\n",
              "    <tr>\n",
              "      <th>39</th>\n",
              "      <td>HUME</td>\n",
              "      <td>8823</td>\n",
              "    </tr>\n",
              "    <tr>\n",
              "      <th>58</th>\n",
              "      <td>MORELAND</td>\n",
              "      <td>8675</td>\n",
              "    </tr>\n",
              "    <tr>\n",
              "      <th>17</th>\n",
              "      <td>BOROONDARA</td>\n",
              "      <td>7976</td>\n",
              "    </tr>\n",
              "  </tbody>\n",
              "</table>\n",
              "</div>"
            ],
            "text/plain": [
              "        LGA_NAME  ACCIDENT_NO\n",
              "50     MELBOURNE        17829\n",
              "22         CASEY        11702\n",
              "26     DANDENONG        10623\n",
              "31       GEELONG        10521\n",
              "55        MONASH         9461\n",
              "18      BRIMBANK         9273\n",
              "86  YARRA RANGES         8908\n",
              "39          HUME         8823\n",
              "58      MORELAND         8675\n",
              "17    BOROONDARA         7976"
            ]
          },
          "metadata": {},
          "execution_count": 62
        }
      ]
    },
    {
      "cell_type": "code",
      "metadata": {
        "id": "viAxHOaBW6Gs",
        "colab": {
          "base_uri": "https://localhost:8080/",
          "height": 896
        },
        "outputId": "519c9535-bf65-4acf-cf54-b17b9aadf379"
      },
      "source": [
        "# LIGHT COND VS SEVERITY\n",
        "accident_final_df.groupby(by = ['SEVERITY','LIGHT_CONDITION'],as_index=False)[['ACCIDENT_NO']].count()"
      ],
      "execution_count": null,
      "outputs": [
        {
          "output_type": "execute_result",
          "data": {
            "text/html": [
              "<div>\n",
              "<style scoped>\n",
              "    .dataframe tbody tr th:only-of-type {\n",
              "        vertical-align: middle;\n",
              "    }\n",
              "\n",
              "    .dataframe tbody tr th {\n",
              "        vertical-align: top;\n",
              "    }\n",
              "\n",
              "    .dataframe thead th {\n",
              "        text-align: right;\n",
              "    }\n",
              "</style>\n",
              "<table border=\"1\" class=\"dataframe\">\n",
              "  <thead>\n",
              "    <tr style=\"text-align: right;\">\n",
              "      <th></th>\n",
              "      <th>SEVERITY</th>\n",
              "      <th>LIGHT_CONDITION</th>\n",
              "      <th>ACCIDENT_NO</th>\n",
              "    </tr>\n",
              "  </thead>\n",
              "  <tbody>\n",
              "    <tr>\n",
              "      <th>0</th>\n",
              "      <td>1</td>\n",
              "      <td>1</td>\n",
              "      <td>3038</td>\n",
              "    </tr>\n",
              "    <tr>\n",
              "      <th>1</th>\n",
              "      <td>1</td>\n",
              "      <td>2</td>\n",
              "      <td>449</td>\n",
              "    </tr>\n",
              "    <tr>\n",
              "      <th>2</th>\n",
              "      <td>1</td>\n",
              "      <td>3</td>\n",
              "      <td>1025</td>\n",
              "    </tr>\n",
              "    <tr>\n",
              "      <th>3</th>\n",
              "      <td>1</td>\n",
              "      <td>4</td>\n",
              "      <td>36</td>\n",
              "    </tr>\n",
              "    <tr>\n",
              "      <th>4</th>\n",
              "      <td>1</td>\n",
              "      <td>5</td>\n",
              "      <td>1039</td>\n",
              "    </tr>\n",
              "    <tr>\n",
              "      <th>5</th>\n",
              "      <td>1</td>\n",
              "      <td>6</td>\n",
              "      <td>38</td>\n",
              "    </tr>\n",
              "    <tr>\n",
              "      <th>6</th>\n",
              "      <td>1</td>\n",
              "      <td>9</td>\n",
              "      <td>28</td>\n",
              "    </tr>\n",
              "    <tr>\n",
              "      <th>7</th>\n",
              "      <td>2</td>\n",
              "      <td>1</td>\n",
              "      <td>61573</td>\n",
              "    </tr>\n",
              "    <tr>\n",
              "      <th>8</th>\n",
              "      <td>2</td>\n",
              "      <td>2</td>\n",
              "      <td>7919</td>\n",
              "    </tr>\n",
              "    <tr>\n",
              "      <th>9</th>\n",
              "      <td>2</td>\n",
              "      <td>3</td>\n",
              "      <td>19597</td>\n",
              "    </tr>\n",
              "    <tr>\n",
              "      <th>10</th>\n",
              "      <td>2</td>\n",
              "      <td>4</td>\n",
              "      <td>376</td>\n",
              "    </tr>\n",
              "    <tr>\n",
              "      <th>11</th>\n",
              "      <td>2</td>\n",
              "      <td>5</td>\n",
              "      <td>7252</td>\n",
              "    </tr>\n",
              "    <tr>\n",
              "      <th>12</th>\n",
              "      <td>2</td>\n",
              "      <td>6</td>\n",
              "      <td>786</td>\n",
              "    </tr>\n",
              "    <tr>\n",
              "      <th>13</th>\n",
              "      <td>2</td>\n",
              "      <td>9</td>\n",
              "      <td>751</td>\n",
              "    </tr>\n",
              "    <tr>\n",
              "      <th>14</th>\n",
              "      <td>3</td>\n",
              "      <td>1</td>\n",
              "      <td>133797</td>\n",
              "    </tr>\n",
              "    <tr>\n",
              "      <th>15</th>\n",
              "      <td>3</td>\n",
              "      <td>2</td>\n",
              "      <td>16443</td>\n",
              "    </tr>\n",
              "    <tr>\n",
              "      <th>16</th>\n",
              "      <td>3</td>\n",
              "      <td>3</td>\n",
              "      <td>31194</td>\n",
              "    </tr>\n",
              "    <tr>\n",
              "      <th>17</th>\n",
              "      <td>3</td>\n",
              "      <td>4</td>\n",
              "      <td>545</td>\n",
              "    </tr>\n",
              "    <tr>\n",
              "      <th>18</th>\n",
              "      <td>3</td>\n",
              "      <td>5</td>\n",
              "      <td>8396</td>\n",
              "    </tr>\n",
              "    <tr>\n",
              "      <th>19</th>\n",
              "      <td>3</td>\n",
              "      <td>6</td>\n",
              "      <td>1877</td>\n",
              "    </tr>\n",
              "    <tr>\n",
              "      <th>20</th>\n",
              "      <td>3</td>\n",
              "      <td>9</td>\n",
              "      <td>3566</td>\n",
              "    </tr>\n",
              "    <tr>\n",
              "      <th>21</th>\n",
              "      <td>4</td>\n",
              "      <td>1</td>\n",
              "      <td>88</td>\n",
              "    </tr>\n",
              "    <tr>\n",
              "      <th>22</th>\n",
              "      <td>4</td>\n",
              "      <td>2</td>\n",
              "      <td>15</td>\n",
              "    </tr>\n",
              "    <tr>\n",
              "      <th>23</th>\n",
              "      <td>4</td>\n",
              "      <td>3</td>\n",
              "      <td>21</td>\n",
              "    </tr>\n",
              "    <tr>\n",
              "      <th>24</th>\n",
              "      <td>4</td>\n",
              "      <td>5</td>\n",
              "      <td>3</td>\n",
              "    </tr>\n",
              "    <tr>\n",
              "      <th>25</th>\n",
              "      <td>4</td>\n",
              "      <td>6</td>\n",
              "      <td>1</td>\n",
              "    </tr>\n",
              "    <tr>\n",
              "      <th>26</th>\n",
              "      <td>4</td>\n",
              "      <td>9</td>\n",
              "      <td>2</td>\n",
              "    </tr>\n",
              "  </tbody>\n",
              "</table>\n",
              "</div>"
            ],
            "text/plain": [
              "    SEVERITY  LIGHT_CONDITION  ACCIDENT_NO\n",
              "0          1                1         3038\n",
              "1          1                2          449\n",
              "2          1                3         1025\n",
              "3          1                4           36\n",
              "4          1                5         1039\n",
              "5          1                6           38\n",
              "6          1                9           28\n",
              "7          2                1        61573\n",
              "8          2                2         7919\n",
              "9          2                3        19597\n",
              "10         2                4          376\n",
              "11         2                5         7252\n",
              "12         2                6          786\n",
              "13         2                9          751\n",
              "14         3                1       133797\n",
              "15         3                2        16443\n",
              "16         3                3        31194\n",
              "17         3                4          545\n",
              "18         3                5         8396\n",
              "19         3                6         1877\n",
              "20         3                9         3566\n",
              "21         4                1           88\n",
              "22         4                2           15\n",
              "23         4                3           21\n",
              "24         4                5            3\n",
              "25         4                6            1\n",
              "26         4                9            2"
            ]
          },
          "metadata": {},
          "execution_count": 228
        }
      ]
    },
    {
      "cell_type": "code",
      "metadata": {
        "id": "P-adbas7W6Gs",
        "colab": {
          "base_uri": "https://localhost:8080/",
          "height": 363
        },
        "outputId": "84514916-d081-4cca-eec1-b8f17493fb3b"
      },
      "source": [
        "# ROAD CONDITION VS SEVERITY\n",
        "accident_final_df.groupby(by = ['SEVERITY','ROAD_TYPE'],as_index=False)[['ACCIDENT_NO']].count().nlargest(10,'ACCIDENT_NO')"
      ],
      "execution_count": null,
      "outputs": [
        {
          "output_type": "execute_result",
          "data": {
            "text/html": [
              "<div>\n",
              "<style scoped>\n",
              "    .dataframe tbody tr th:only-of-type {\n",
              "        vertical-align: middle;\n",
              "    }\n",
              "\n",
              "    .dataframe tbody tr th {\n",
              "        vertical-align: top;\n",
              "    }\n",
              "\n",
              "    .dataframe thead th {\n",
              "        text-align: right;\n",
              "    }\n",
              "</style>\n",
              "<table border=\"1\" class=\"dataframe\">\n",
              "  <thead>\n",
              "    <tr style=\"text-align: right;\">\n",
              "      <th></th>\n",
              "      <th>SEVERITY</th>\n",
              "      <th>ROAD_TYPE</th>\n",
              "      <th>ACCIDENT_NO</th>\n",
              "    </tr>\n",
              "  </thead>\n",
              "  <tbody>\n",
              "    <tr>\n",
              "      <th>153</th>\n",
              "      <td>3</td>\n",
              "      <td>ROAD</td>\n",
              "      <td>97736</td>\n",
              "    </tr>\n",
              "    <tr>\n",
              "      <th>81</th>\n",
              "      <td>2</td>\n",
              "      <td>ROAD</td>\n",
              "      <td>51731</td>\n",
              "    </tr>\n",
              "    <tr>\n",
              "      <th>159</th>\n",
              "      <td>3</td>\n",
              "      <td>STREET</td>\n",
              "      <td>49444</td>\n",
              "    </tr>\n",
              "    <tr>\n",
              "      <th>84</th>\n",
              "      <td>2</td>\n",
              "      <td>STREET</td>\n",
              "      <td>20408</td>\n",
              "    </tr>\n",
              "    <tr>\n",
              "      <th>129</th>\n",
              "      <td>3</td>\n",
              "      <td>HIGHWAY</td>\n",
              "      <td>17886</td>\n",
              "    </tr>\n",
              "    <tr>\n",
              "      <th>62</th>\n",
              "      <td>2</td>\n",
              "      <td>HIGHWAY</td>\n",
              "      <td>10481</td>\n",
              "    </tr>\n",
              "    <tr>\n",
              "      <th>122</th>\n",
              "      <td>3</td>\n",
              "      <td>FREEWAY</td>\n",
              "      <td>6707</td>\n",
              "    </tr>\n",
              "    <tr>\n",
              "      <th>99</th>\n",
              "      <td>3</td>\n",
              "      <td>AVENUE</td>\n",
              "      <td>5751</td>\n",
              "    </tr>\n",
              "    <tr>\n",
              "      <th>116</th>\n",
              "      <td>3</td>\n",
              "      <td>DRIVE</td>\n",
              "      <td>4806</td>\n",
              "    </tr>\n",
              "    <tr>\n",
              "      <th>55</th>\n",
              "      <td>2</td>\n",
              "      <td>FREEWAY</td>\n",
              "      <td>3756</td>\n",
              "    </tr>\n",
              "  </tbody>\n",
              "</table>\n",
              "</div>"
            ],
            "text/plain": [
              "     SEVERITY ROAD_TYPE  ACCIDENT_NO\n",
              "153         3      ROAD        97736\n",
              "81          2      ROAD        51731\n",
              "159         3    STREET        49444\n",
              "84          2    STREET        20408\n",
              "129         3   HIGHWAY        17886\n",
              "62          2   HIGHWAY        10481\n",
              "122         3   FREEWAY         6707\n",
              "99          3    AVENUE         5751\n",
              "116         3     DRIVE         4806\n",
              "55          2   FREEWAY         3756"
            ]
          },
          "metadata": {},
          "execution_count": 64
        }
      ]
    },
    {
      "cell_type": "code",
      "metadata": {
        "id": "D_by0L3AvZ0j"
      },
      "source": [
        "# Combining Person\n",
        "person_concat = [person_df,person_2020_df]"
      ],
      "execution_count": null,
      "outputs": []
    },
    {
      "cell_type": "code",
      "metadata": {
        "id": "uM-EBG0zvgav"
      },
      "source": [
        "person_final_df = pd.concat(person_concat)"
      ],
      "execution_count": null,
      "outputs": []
    },
    {
      "cell_type": "code",
      "metadata": {
        "colab": {
          "base_uri": "https://localhost:8080/"
        },
        "id": "Ove0KebgwbiT",
        "outputId": "4bab4ae3-d300-47c9-d4d6-924e3c7ae567"
      },
      "source": [
        "person_final_df.shape"
      ],
      "execution_count": null,
      "outputs": [
        {
          "output_type": "execute_result",
          "data": {
            "text/plain": [
              "(759993, 11)"
            ]
          },
          "metadata": {},
          "execution_count": 68
        }
      ]
    },
    {
      "cell_type": "code",
      "metadata": {
        "id": "kVs5e01mW6Gs",
        "colab": {
          "base_uri": "https://localhost:8080/",
          "height": 363
        },
        "outputId": "5e10af94-fab8-41e7-faba-fb567b7761b1"
      },
      "source": [
        "# PERSON Anaysis\n",
        "## Men are most involved in accidents, could be for two reasons,\n",
        "## either men are mostly driving or well Women are better drivers. \n",
        "## (just my opinion: Women are better at everything)\n",
        "person_final_df.groupby(by = ['Age Group','SEX'],as_index=False)[['ACCIDENT_NO']].count().nlargest(10,'ACCIDENT_NO')"
      ],
      "execution_count": null,
      "outputs": [
        {
          "output_type": "execute_result",
          "data": {
            "text/html": [
              "<div>\n",
              "<style scoped>\n",
              "    .dataframe tbody tr th:only-of-type {\n",
              "        vertical-align: middle;\n",
              "    }\n",
              "\n",
              "    .dataframe tbody tr th {\n",
              "        vertical-align: top;\n",
              "    }\n",
              "\n",
              "    .dataframe thead th {\n",
              "        text-align: right;\n",
              "    }\n",
              "</style>\n",
              "<table border=\"1\" class=\"dataframe\">\n",
              "  <thead>\n",
              "    <tr style=\"text-align: right;\">\n",
              "      <th></th>\n",
              "      <th>Age Group</th>\n",
              "      <th>SEX</th>\n",
              "      <th>ACCIDENT_NO</th>\n",
              "    </tr>\n",
              "  </thead>\n",
              "  <tbody>\n",
              "    <tr>\n",
              "      <th>19</th>\n",
              "      <td>30-39</td>\n",
              "      <td>M</td>\n",
              "      <td>79417</td>\n",
              "    </tr>\n",
              "    <tr>\n",
              "      <th>22</th>\n",
              "      <td>40-49</td>\n",
              "      <td>M</td>\n",
              "      <td>63256</td>\n",
              "    </tr>\n",
              "    <tr>\n",
              "      <th>10</th>\n",
              "      <td>17-21</td>\n",
              "      <td>M</td>\n",
              "      <td>53877</td>\n",
              "    </tr>\n",
              "    <tr>\n",
              "      <th>18</th>\n",
              "      <td>30-39</td>\n",
              "      <td>F</td>\n",
              "      <td>51861</td>\n",
              "    </tr>\n",
              "    <tr>\n",
              "      <th>28</th>\n",
              "      <td>50-59</td>\n",
              "      <td>M</td>\n",
              "      <td>47160</td>\n",
              "    </tr>\n",
              "    <tr>\n",
              "      <th>13</th>\n",
              "      <td>22-25</td>\n",
              "      <td>M</td>\n",
              "      <td>45859</td>\n",
              "    </tr>\n",
              "    <tr>\n",
              "      <th>21</th>\n",
              "      <td>40-49</td>\n",
              "      <td>F</td>\n",
              "      <td>45030</td>\n",
              "    </tr>\n",
              "    <tr>\n",
              "      <th>16</th>\n",
              "      <td>26-29</td>\n",
              "      <td>M</td>\n",
              "      <td>38939</td>\n",
              "    </tr>\n",
              "    <tr>\n",
              "      <th>9</th>\n",
              "      <td>17-21</td>\n",
              "      <td>F</td>\n",
              "      <td>37513</td>\n",
              "    </tr>\n",
              "    <tr>\n",
              "      <th>27</th>\n",
              "      <td>50-59</td>\n",
              "      <td>F</td>\n",
              "      <td>32981</td>\n",
              "    </tr>\n",
              "  </tbody>\n",
              "</table>\n",
              "</div>"
            ],
            "text/plain": [
              "   Age Group SEX  ACCIDENT_NO\n",
              "19     30-39   M        79417\n",
              "22     40-49   M        63256\n",
              "10     17-21   M        53877\n",
              "18     30-39   F        51861\n",
              "28     50-59   M        47160\n",
              "13     22-25   M        45859\n",
              "21     40-49   F        45030\n",
              "16     26-29   M        38939\n",
              "9      17-21   F        37513\n",
              "27     50-59   F        32981"
            ]
          },
          "metadata": {},
          "execution_count": 69
        }
      ]
    },
    {
      "cell_type": "code",
      "metadata": {
        "id": "A93KKb1tW6Gt",
        "colab": {
          "base_uri": "https://localhost:8080/",
          "height": 363
        },
        "outputId": "479b4dc1-8ab4-4925-9b83-678ac6dc6e53"
      },
      "source": [
        "# PERSON: Injury by age group and gender\n",
        "person_final_df[person_final_df['INJ_LEVEL'] == 1].groupby(by = ['SEX','Inj Level Desc','Age Group'],as_index=False)[['ACCIDENT_NO']].count().nlargest(10,'ACCIDENT_NO')"
      ],
      "execution_count": null,
      "outputs": [
        {
          "output_type": "execute_result",
          "data": {
            "text/html": [
              "<div>\n",
              "<style scoped>\n",
              "    .dataframe tbody tr th:only-of-type {\n",
              "        vertical-align: middle;\n",
              "    }\n",
              "\n",
              "    .dataframe tbody tr th {\n",
              "        vertical-align: top;\n",
              "    }\n",
              "\n",
              "    .dataframe thead th {\n",
              "        text-align: right;\n",
              "    }\n",
              "</style>\n",
              "<table border=\"1\" class=\"dataframe\">\n",
              "  <thead>\n",
              "    <tr style=\"text-align: right;\">\n",
              "      <th></th>\n",
              "      <th>SEX</th>\n",
              "      <th>Inj Level Desc</th>\n",
              "      <th>Age Group</th>\n",
              "      <th>ACCIDENT_NO</th>\n",
              "    </tr>\n",
              "  </thead>\n",
              "  <tbody>\n",
              "    <tr>\n",
              "      <th>20</th>\n",
              "      <td>M</td>\n",
              "      <td>Fatality</td>\n",
              "      <td>30-39</td>\n",
              "      <td>502</td>\n",
              "    </tr>\n",
              "    <tr>\n",
              "      <th>17</th>\n",
              "      <td>M</td>\n",
              "      <td>Fatality</td>\n",
              "      <td>17-21</td>\n",
              "      <td>431</td>\n",
              "    </tr>\n",
              "    <tr>\n",
              "      <th>21</th>\n",
              "      <td>M</td>\n",
              "      <td>Fatality</td>\n",
              "      <td>40-49</td>\n",
              "      <td>389</td>\n",
              "    </tr>\n",
              "    <tr>\n",
              "      <th>26</th>\n",
              "      <td>M</td>\n",
              "      <td>Fatality</td>\n",
              "      <td>70+</td>\n",
              "      <td>344</td>\n",
              "    </tr>\n",
              "    <tr>\n",
              "      <th>18</th>\n",
              "      <td>M</td>\n",
              "      <td>Fatality</td>\n",
              "      <td>22-25</td>\n",
              "      <td>322</td>\n",
              "    </tr>\n",
              "    <tr>\n",
              "      <th>23</th>\n",
              "      <td>M</td>\n",
              "      <td>Fatality</td>\n",
              "      <td>50-59</td>\n",
              "      <td>292</td>\n",
              "    </tr>\n",
              "    <tr>\n",
              "      <th>12</th>\n",
              "      <td>F</td>\n",
              "      <td>Fatality</td>\n",
              "      <td>70+</td>\n",
              "      <td>285</td>\n",
              "    </tr>\n",
              "    <tr>\n",
              "      <th>19</th>\n",
              "      <td>M</td>\n",
              "      <td>Fatality</td>\n",
              "      <td>26-29</td>\n",
              "      <td>271</td>\n",
              "    </tr>\n",
              "    <tr>\n",
              "      <th>3</th>\n",
              "      <td>F</td>\n",
              "      <td>Fatality</td>\n",
              "      <td>17-21</td>\n",
              "      <td>144</td>\n",
              "    </tr>\n",
              "    <tr>\n",
              "      <th>24</th>\n",
              "      <td>M</td>\n",
              "      <td>Fatality</td>\n",
              "      <td>60-64</td>\n",
              "      <td>144</td>\n",
              "    </tr>\n",
              "  </tbody>\n",
              "</table>\n",
              "</div>"
            ],
            "text/plain": [
              "   SEX Inj Level Desc Age Group  ACCIDENT_NO\n",
              "20   M       Fatality     30-39          502\n",
              "17   M       Fatality     17-21          431\n",
              "21   M       Fatality     40-49          389\n",
              "26   M       Fatality       70+          344\n",
              "18   M       Fatality     22-25          322\n",
              "23   M       Fatality     50-59          292\n",
              "12   F       Fatality       70+          285\n",
              "19   M       Fatality     26-29          271\n",
              "3    F       Fatality     17-21          144\n",
              "24   M       Fatality     60-64          144"
            ]
          },
          "metadata": {},
          "execution_count": 70
        }
      ]
    },
    {
      "cell_type": "code",
      "metadata": {
        "colab": {
          "base_uri": "https://localhost:8080/",
          "height": 81
        },
        "id": "D83Jnpl9qwyC",
        "outputId": "c21fe652-f593-4992-99c3-495468fee4cf"
      },
      "source": [
        "# Total Deaths\n",
        "person_final_df[person_final_df['INJ_LEVEL'] == 1].groupby(by = ['Inj Level Desc'],as_index=False)[['ACCIDENT_NO']].count()"
      ],
      "execution_count": null,
      "outputs": [
        {
          "output_type": "execute_result",
          "data": {
            "text/html": [
              "<div>\n",
              "<style scoped>\n",
              "    .dataframe tbody tr th:only-of-type {\n",
              "        vertical-align: middle;\n",
              "    }\n",
              "\n",
              "    .dataframe tbody tr th {\n",
              "        vertical-align: top;\n",
              "    }\n",
              "\n",
              "    .dataframe thead th {\n",
              "        text-align: right;\n",
              "    }\n",
              "</style>\n",
              "<table border=\"1\" class=\"dataframe\">\n",
              "  <thead>\n",
              "    <tr style=\"text-align: right;\">\n",
              "      <th></th>\n",
              "      <th>Inj Level Desc</th>\n",
              "      <th>ACCIDENT_NO</th>\n",
              "    </tr>\n",
              "  </thead>\n",
              "  <tbody>\n",
              "    <tr>\n",
              "      <th>0</th>\n",
              "      <td>Fatality</td>\n",
              "      <td>3548</td>\n",
              "    </tr>\n",
              "  </tbody>\n",
              "</table>\n",
              "</div>"
            ],
            "text/plain": [
              "  Inj Level Desc  ACCIDENT_NO\n",
              "0       Fatality         3548"
            ]
          },
          "metadata": {},
          "execution_count": 230
        }
      ]
    },
    {
      "cell_type": "code",
      "metadata": {
        "id": "CmPjNkEYxE1v"
      },
      "source": [
        "# Subsetting accident\n",
        "accident_year_df = accident_final_df[['ACCIDENT_NO','year']]"
      ],
      "execution_count": null,
      "outputs": []
    },
    {
      "cell_type": "code",
      "metadata": {
        "id": "BuvnX0TyW6Gt"
      },
      "source": [
        "# PERSON WITH YEAR\n",
        "person_year_df1 = person_final_df.merge(accident_year_df, how='left', on='ACCIDENT_NO')"
      ],
      "execution_count": null,
      "outputs": []
    },
    {
      "cell_type": "code",
      "metadata": {
        "id": "tqzv0cRezMbb"
      },
      "source": [
        "person_year_df1.drop(['POSTCODE'], axis = 1, inplace = True)\n",
        "person_year_df1.dropna(inplace= True)"
      ],
      "execution_count": null,
      "outputs": []
    },
    {
      "cell_type": "code",
      "metadata": {
        "id": "bYjq6ytLz9xB"
      },
      "source": [
        "# Changing column type\n",
        "person_year_df1['INJ_LEVEL'] = pd.to_numeric(person_year_df1['INJ_LEVEL'])"
      ],
      "execution_count": null,
      "outputs": []
    },
    {
      "cell_type": "code",
      "metadata": {
        "id": "bwKMY_y91nMc"
      },
      "source": [
        "# Changing data type\n",
        "person_year_df1['year'] = person_year_df1['year'].astype(\"int64\")"
      ],
      "execution_count": null,
      "outputs": []
    },
    {
      "cell_type": "code",
      "metadata": {
        "colab": {
          "base_uri": "https://localhost:8080/",
          "height": 206
        },
        "id": "TOT5CTSTxgLX",
        "outputId": "8c2e838f-d2a8-4c30-8fbc-f2303d683d5e"
      },
      "source": [
        "person_year_df1[person_year_df1['year'] == 2008].groupby(by=['INJ_LEVEL'])[['ACCIDENT_NO']].count()"
      ],
      "execution_count": null,
      "outputs": [
        {
          "output_type": "execute_result",
          "data": {
            "text/html": [
              "<div>\n",
              "<style scoped>\n",
              "    .dataframe tbody tr th:only-of-type {\n",
              "        vertical-align: middle;\n",
              "    }\n",
              "\n",
              "    .dataframe tbody tr th {\n",
              "        vertical-align: top;\n",
              "    }\n",
              "\n",
              "    .dataframe thead th {\n",
              "        text-align: right;\n",
              "    }\n",
              "</style>\n",
              "<table border=\"1\" class=\"dataframe\">\n",
              "  <thead>\n",
              "    <tr style=\"text-align: right;\">\n",
              "      <th></th>\n",
              "      <th>ACCIDENT_NO</th>\n",
              "    </tr>\n",
              "    <tr>\n",
              "      <th>INJ_LEVEL</th>\n",
              "      <th></th>\n",
              "    </tr>\n",
              "  </thead>\n",
              "  <tbody>\n",
              "    <tr>\n",
              "      <th>1</th>\n",
              "      <td>238</td>\n",
              "    </tr>\n",
              "    <tr>\n",
              "      <th>2</th>\n",
              "      <td>5545</td>\n",
              "    </tr>\n",
              "    <tr>\n",
              "      <th>3</th>\n",
              "      <td>10759</td>\n",
              "    </tr>\n",
              "    <tr>\n",
              "      <th>4</th>\n",
              "      <td>14095</td>\n",
              "    </tr>\n",
              "  </tbody>\n",
              "</table>\n",
              "</div>"
            ],
            "text/plain": [
              "           ACCIDENT_NO\n",
              "INJ_LEVEL             \n",
              "1                  238\n",
              "2                 5545\n",
              "3                10759\n",
              "4                14095"
            ]
          },
          "metadata": {},
          "execution_count": 78
        }
      ]
    },
    {
      "cell_type": "code",
      "metadata": {
        "id": "tJMYFZGyW6Gt",
        "colab": {
          "base_uri": "https://localhost:8080/",
          "height": 297
        },
        "outputId": "62b1dcae-e4fb-4989-eb5e-a24c5e9260a6"
      },
      "source": [
        "## Accidents per year\n",
        "person_year_df1[person_year_df1['INJ_LEVEL'] == 1].groupby(by=['year'])[['ACCIDENT_NO']].count().plot()"
      ],
      "execution_count": null,
      "outputs": [
        {
          "output_type": "execute_result",
          "data": {
            "text/plain": [
              "<matplotlib.axes._subplots.AxesSubplot at 0x7fae2cd29a50>"
            ]
          },
          "metadata": {},
          "execution_count": 79
        },
        {
          "output_type": "display_data",
          "data": {
            "image/png": "[encoded data removed]",
            "text/plain": [
              "<Figure size 432x288 with 1 Axes>"
            ]
          },
          "metadata": {
            "needs_background": "light"
          }
        }
      ]
    },
    {
      "cell_type": "code",
      "metadata": {
        "id": "k6mmojaDb2Kz"
      },
      "source": [
        "vehicle_2020_df1 = vehicle_2020_df[['ACCIDENT_NO','VEHICLE_BODY_STYLE','VEHICLE_MAKE',\"Vehicle Type Desc\",'LEVEL_OF_DAMAGE','TRAFFIC_CONTROL','Traffic Control Desc' ]]"
      ],
      "execution_count": null,
      "outputs": []
    },
    {
      "cell_type": "code",
      "metadata": {
        "id": "tmsEtQaZc8Cy"
      },
      "source": [
        "vehicle_df1 = vehicle_df[['ACCIDENT_NO','VEHICLE_BODY_STYLE','VEHICLE_MAKE',\"Vehicle Type Desc\",'LEVEL_OF_DAMAGE','TRAFFIC_CONTROL','Traffic Control Desc' ]]"
      ],
      "execution_count": null,
      "outputs": []
    },
    {
      "cell_type": "code",
      "metadata": {
        "id": "rk8xlZKfdVEf"
      },
      "source": [
        "vehicl_conc = [vehicle_df1, vehicle_2020_df1]"
      ],
      "execution_count": null,
      "outputs": []
    },
    {
      "cell_type": "code",
      "metadata": {
        "id": "g6ApJ3TabPW4"
      },
      "source": [
        "vehicle_final_df = pd.concat(vehicl_conc)"
      ],
      "execution_count": null,
      "outputs": []
    },
    {
      "cell_type": "code",
      "metadata": {
        "id": "jCaNHftsW6Gu",
        "colab": {
          "base_uri": "https://localhost:8080/",
          "height": 394
        },
        "outputId": "41f3ca7d-beea-4ee0-bd88-5a633df6e5fb"
      },
      "source": [
        "vehicle_final_df.groupby(by=['Vehicle Type Desc', 'Traffic Control Desc'])[['ACCIDENT_NO']].count().nlargest(10,'ACCIDENT_NO')"
      ],
      "execution_count": null,
      "outputs": [
        {
          "output_type": "execute_result",
          "data": {
            "text/html": [
              "<div>\n",
              "<style scoped>\n",
              "    .dataframe tbody tr th:only-of-type {\n",
              "        vertical-align: middle;\n",
              "    }\n",
              "\n",
              "    .dataframe tbody tr th {\n",
              "        vertical-align: top;\n",
              "    }\n",
              "\n",
              "    .dataframe thead th {\n",
              "        text-align: right;\n",
              "    }\n",
              "</style>\n",
              "<table border=\"1\" class=\"dataframe\">\n",
              "  <thead>\n",
              "    <tr style=\"text-align: right;\">\n",
              "      <th></th>\n",
              "      <th></th>\n",
              "      <th>ACCIDENT_NO</th>\n",
              "    </tr>\n",
              "    <tr>\n",
              "      <th>Vehicle Type Desc</th>\n",
              "      <th>Traffic Control Desc</th>\n",
              "      <th></th>\n",
              "    </tr>\n",
              "  </thead>\n",
              "  <tbody>\n",
              "    <tr>\n",
              "      <th rowspan=\"2\" valign=\"top\">Car</th>\n",
              "      <th>No control</th>\n",
              "      <td>190667</td>\n",
              "    </tr>\n",
              "    <tr>\n",
              "      <th>Stop-go lights</th>\n",
              "      <td>65790</td>\n",
              "    </tr>\n",
              "    <tr>\n",
              "      <th>Station Wagon</th>\n",
              "      <th>No control</th>\n",
              "      <td>49813</td>\n",
              "    </tr>\n",
              "    <tr>\n",
              "      <th>Motor Cycle</th>\n",
              "      <th>No control</th>\n",
              "      <td>31078</td>\n",
              "    </tr>\n",
              "    <tr>\n",
              "      <th>Utility</th>\n",
              "      <th>No control</th>\n",
              "      <td>26219</td>\n",
              "    </tr>\n",
              "    <tr>\n",
              "      <th>Car</th>\n",
              "      <th>Giveway sign</th>\n",
              "      <td>20021</td>\n",
              "    </tr>\n",
              "    <tr>\n",
              "      <th>Bicycle</th>\n",
              "      <th>No control</th>\n",
              "      <td>18741</td>\n",
              "    </tr>\n",
              "    <tr>\n",
              "      <th>Station Wagon</th>\n",
              "      <th>Stop-go lights</th>\n",
              "      <td>15132</td>\n",
              "    </tr>\n",
              "    <tr>\n",
              "      <th rowspan=\"2\" valign=\"top\">Car</th>\n",
              "      <th>Unknown</th>\n",
              "      <td>9202</td>\n",
              "    </tr>\n",
              "    <tr>\n",
              "      <th>Roundabout</th>\n",
              "      <td>8604</td>\n",
              "    </tr>\n",
              "  </tbody>\n",
              "</table>\n",
              "</div>"
            ],
            "text/plain": [
              "                                        ACCIDENT_NO\n",
              "Vehicle Type Desc Traffic Control Desc             \n",
              "Car               No control                 190667\n",
              "                  Stop-go lights              65790\n",
              "Station Wagon     No control                  49813\n",
              "Motor Cycle       No control                  31078\n",
              "Utility           No control                  26219\n",
              "Car               Giveway sign                20021\n",
              "Bicycle           No control                  18741\n",
              "Station Wagon     Stop-go lights              15132\n",
              "Car               Unknown                      9202\n",
              "                  Roundabout                   8604"
            ]
          },
          "metadata": {},
          "execution_count": 88
        }
      ]
    },
    {
      "cell_type": "code",
      "metadata": {
        "id": "XXBEhjksW6Gu",
        "colab": {
          "base_uri": "https://localhost:8080/"
        },
        "outputId": "a5db2e67-a43f-4ee8-e212-6ed2c2752339"
      },
      "source": [
        "# FOR CAR COUNT\n",
        "vehicle_final_df.duplicated(subset=['ACCIDENT_NO']).sum()"
      ],
      "execution_count": null,
      "outputs": [
        {
          "output_type": "execute_result",
          "data": {
            "text/plain": [
              "243863"
            ]
          },
          "metadata": {},
          "execution_count": 89
        }
      ]
    },
    {
      "cell_type": "code",
      "metadata": {
        "id": "TVztmdwdW6Gu",
        "colab": {
          "base_uri": "https://localhost:8080/",
          "height": 297
        },
        "outputId": "00d409e7-9666-42f1-828e-788a2f4fc236"
      },
      "source": [
        "vehicle_final_df.groupby(by=['Traffic Control Desc'])[['ACCIDENT_NO']].count().nlargest(10,'ACCIDENT_NO').plot()"
      ],
      "execution_count": null,
      "outputs": [
        {
          "output_type": "execute_result",
          "data": {
            "text/plain": [
              "<matplotlib.axes._subplots.AxesSubplot at 0x7fae2fa6e710>"
            ]
          },
          "metadata": {},
          "execution_count": 90
        },
        {
          "output_type": "display_data",
          "data": {
            "image/png": "[encoded data removed]",
            "text/plain": [
              "<Figure size 432x288 with 1 Axes>"
            ]
          },
          "metadata": {
            "needs_background": "light"
          }
        }
      ]
    },
    {
      "cell_type": "code",
      "metadata": {
        "id": "MhGzSoWmW6Gu",
        "colab": {
          "base_uri": "https://localhost:8080/",
          "height": 394
        },
        "outputId": "ac846ba6-1d14-4cdb-9245-7e27b82c946c"
      },
      "source": [
        "# Vehicle Make count\n",
        "vehicle_final_df.groupby(by=['VEHICLE_MAKE'])[['ACCIDENT_NO']].count().nlargest(10,'ACCIDENT_NO')"
      ],
      "execution_count": null,
      "outputs": [
        {
          "output_type": "execute_result",
          "data": {
            "text/html": [
              "<div>\n",
              "<style scoped>\n",
              "    .dataframe tbody tr th:only-of-type {\n",
              "        vertical-align: middle;\n",
              "    }\n",
              "\n",
              "    .dataframe tbody tr th {\n",
              "        vertical-align: top;\n",
              "    }\n",
              "\n",
              "    .dataframe thead th {\n",
              "        text-align: right;\n",
              "    }\n",
              "</style>\n",
              "<table border=\"1\" class=\"dataframe\">\n",
              "  <thead>\n",
              "    <tr style=\"text-align: right;\">\n",
              "      <th></th>\n",
              "      <th>ACCIDENT_NO</th>\n",
              "    </tr>\n",
              "    <tr>\n",
              "      <th>VEHICLE_MAKE</th>\n",
              "      <th></th>\n",
              "    </tr>\n",
              "  </thead>\n",
              "  <tbody>\n",
              "    <tr>\n",
              "      <th>HOLDEN</th>\n",
              "      <td>87730</td>\n",
              "    </tr>\n",
              "    <tr>\n",
              "      <th>FORD</th>\n",
              "      <td>81713</td>\n",
              "    </tr>\n",
              "    <tr>\n",
              "      <th>TOYOTA</th>\n",
              "      <td>80556</td>\n",
              "    </tr>\n",
              "    <tr>\n",
              "      <th></th>\n",
              "      <td>40286</td>\n",
              "    </tr>\n",
              "    <tr>\n",
              "      <th>MITSUB</th>\n",
              "      <td>33524</td>\n",
              "    </tr>\n",
              "    <tr>\n",
              "      <th>NISSAN</th>\n",
              "      <td>27348</td>\n",
              "    </tr>\n",
              "    <tr>\n",
              "      <th>HONDA</th>\n",
              "      <td>27058</td>\n",
              "    </tr>\n",
              "    <tr>\n",
              "      <th>MAZDA</th>\n",
              "      <td>24260</td>\n",
              "    </tr>\n",
              "    <tr>\n",
              "      <th>HYNDAI</th>\n",
              "      <td>17821</td>\n",
              "    </tr>\n",
              "    <tr>\n",
              "      <th>UNKN</th>\n",
              "      <td>12638</td>\n",
              "    </tr>\n",
              "  </tbody>\n",
              "</table>\n",
              "</div>"
            ],
            "text/plain": [
              "              ACCIDENT_NO\n",
              "VEHICLE_MAKE             \n",
              "HOLDEN              87730\n",
              "FORD                81713\n",
              "TOYOTA              80556\n",
              "                    40286\n",
              "MITSUB              33524\n",
              "NISSAN              27348\n",
              "HONDA               27058\n",
              "MAZDA               24260\n",
              "HYNDAI              17821\n",
              "UNKN                12638"
            ]
          },
          "metadata": {},
          "execution_count": 91
        }
      ]
    },
    {
      "cell_type": "markdown",
      "metadata": {
        "id": "Hyv9rHqLNTmq"
      },
      "source": [
        "#<h1> Machine Learning\n",
        "- Exploring ML models for different dataframes\n",
        "- Checking for Person\n",
        "- Checking for Accident\n",
        "- Checking for Vehicle"
      ]
    },
    {
      "cell_type": "markdown",
      "metadata": {
        "id": "KG4cF4nwT8PD"
      },
      "source": [
        "## Importing ML Libraries"
      ]
    },
    {
      "cell_type": "code",
      "metadata": {
        "id": "uVDu5BAktBGT"
      },
      "source": [
        "from sklearn.tree import DecisionTreeClassifier\n",
        "from sklearn.neighbors import KNeighborsClassifier\n",
        "from sklearn.ensemble import VotingClassifier"
      ],
      "execution_count": null,
      "outputs": []
    },
    {
      "cell_type": "code",
      "metadata": {
        "id": "KNKfrjfmSnf7"
      },
      "source": [
        "from sklearn.linear_model import LogisticRegression\n",
        "from sklearn.metrics import accuracy_score\n",
        "from sklearn.metrics import mean_squared_error"
      ],
      "execution_count": null,
      "outputs": []
    },
    {
      "cell_type": "code",
      "metadata": {
        "id": "Uvxbd-OLSViq"
      },
      "source": [
        "from sklearn.model_selection import train_test_split"
      ],
      "execution_count": null,
      "outputs": []
    },
    {
      "cell_type": "code",
      "metadata": {
        "id": "1OoSUAhQOLS6"
      },
      "source": [
        "from sklearn.preprocessing import LabelEncoder"
      ],
      "execution_count": null,
      "outputs": []
    },
    {
      "cell_type": "code",
      "metadata": {
        "id": "RLhE30KjXSxo"
      },
      "source": [
        "from sklearn.metrics import classification_report"
      ],
      "execution_count": 245,
      "outputs": []
    },
    {
      "cell_type": "code",
      "metadata": {
        "id": "i7rJKfMDSZ7k"
      },
      "source": [
        "import xgboost as xgb"
      ],
      "execution_count": null,
      "outputs": []
    },
    {
      "cell_type": "code",
      "metadata": {
        "id": "OWq40aK3X4ef"
      },
      "source": [
        "from sklearn.ensemble import RandomForestClassifier"
      ],
      "execution_count": 249,
      "outputs": []
    },
    {
      "cell_type": "code",
      "metadata": {
        "id": "H3L_gDuDOgRI"
      },
      "source": [
        "le = LabelEncoder()"
      ],
      "execution_count": null,
      "outputs": []
    },
    {
      "cell_type": "markdown",
      "metadata": {
        "id": "NT4Qv8cBbcQJ"
      },
      "source": [
        "# PERSON TRIALS\n",
        "Subsetting person dataframe to use for ML\n",
        "- Label Encoding\n",
        "- Checking correlation\n",
        "- Checking if we can predict inj level of a person given the conditions\n"
      ]
    },
    {
      "cell_type": "code",
      "metadata": {
        "id": "ve9Mrm7QNw0O"
      },
      "source": [
        "person_final_df_ml = person_final_df[['SEX','Age Group','INJ_LEVEL','SEATING_POSITION','HELMET_BELT_WORN','ROAD_USER_TYPE']]"
      ],
      "execution_count": null,
      "outputs": []
    },
    {
      "cell_type": "code",
      "metadata": {
        "id": "t6Gb50PYQZVK",
        "colab": {
          "base_uri": "https://localhost:8080/"
        },
        "outputId": "4852b758-01f1-4b5b-d464-d5044bcf3205"
      },
      "source": [
        "person_final_df_ml['HELMET_BELT_WORN'] = person_final_df_ml['HELMET_BELT_WORN'].astype(\"string\")\n",
        "person_final_df_ml['ROAD_USER_TYPE'] = person_final_df_ml['ROAD_USER_TYPE'].astype(\"string\")\n",
        "person_final_df_ml['SEATING_POSITION'] = person_final_df_ml['SEATING_POSITION'].astype(\"string\")\n",
        "person_final_df_ml['INJ_LEVEL'] = person_final_df_ml['INJ_LEVEL'].astype(\"string\")"
      ],
      "execution_count": null,
      "outputs": [
        {
          "output_type": "stream",
          "name": "stderr",
          "text": [
            "/usr/local/lib/python3.7/dist-packages/ipykernel_launcher.py:1: SettingWithCopyWarning: \n",
            "A value is trying to be set on a copy of a slice from a DataFrame.\n",
            "Try using .loc[row_indexer,col_indexer] = value instead\n",
            "\n",
            "See the caveats in the documentation: https://pandas.pydata.org/pandas-docs/stable/user_guide/indexing.html#returning-a-view-versus-a-copy\n",
            "  \"\"\"Entry point for launching an IPython kernel.\n",
            "/usr/local/lib/python3.7/dist-packages/ipykernel_launcher.py:2: SettingWithCopyWarning: \n",
            "A value is trying to be set on a copy of a slice from a DataFrame.\n",
            "Try using .loc[row_indexer,col_indexer] = value instead\n",
            "\n",
            "See the caveats in the documentation: https://pandas.pydata.org/pandas-docs/stable/user_guide/indexing.html#returning-a-view-versus-a-copy\n",
            "  \n",
            "/usr/local/lib/python3.7/dist-packages/ipykernel_launcher.py:3: SettingWithCopyWarning: \n",
            "A value is trying to be set on a copy of a slice from a DataFrame.\n",
            "Try using .loc[row_indexer,col_indexer] = value instead\n",
            "\n",
            "See the caveats in the documentation: https://pandas.pydata.org/pandas-docs/stable/user_guide/indexing.html#returning-a-view-versus-a-copy\n",
            "  This is separate from the ipykernel package so we can avoid doing imports until\n",
            "/usr/local/lib/python3.7/dist-packages/ipykernel_launcher.py:4: SettingWithCopyWarning: \n",
            "A value is trying to be set on a copy of a slice from a DataFrame.\n",
            "Try using .loc[row_indexer,col_indexer] = value instead\n",
            "\n",
            "See the caveats in the documentation: https://pandas.pydata.org/pandas-docs/stable/user_guide/indexing.html#returning-a-view-versus-a-copy\n",
            "  after removing the cwd from sys.path.\n"
          ]
        }
      ]
    },
    {
      "cell_type": "code",
      "metadata": {
        "colab": {
          "base_uri": "https://localhost:8080/"
        },
        "id": "t3VwdEqCr_9s",
        "outputId": "6c35d693-28b1-40aa-ce4a-0d9575e6daab"
      },
      "source": [
        "person_final_df_ml.isnull().sum()"
      ],
      "execution_count": null,
      "outputs": [
        {
          "output_type": "execute_result",
          "data": {
            "text/plain": [
              "SEX                     0\n",
              "Age Group               0\n",
              "INJ_LEVEL               0\n",
              "SEATING_POSITION    31714\n",
              "HELMET_BELT_WORN        0\n",
              "ROAD_USER_TYPE          0\n",
              "dtype: int64"
            ]
          },
          "metadata": {},
          "execution_count": 109
        }
      ]
    },
    {
      "cell_type": "code",
      "metadata": {
        "colab": {
          "base_uri": "https://localhost:8080/"
        },
        "id": "UPnwE02FqPZW",
        "outputId": "3c3759e6-38a3-472c-d5e2-d5a542519bc7"
      },
      "source": [
        "person_final_df_ml.dropna(inplace = True)"
      ],
      "execution_count": null,
      "outputs": [
        {
          "output_type": "stream",
          "name": "stderr",
          "text": [
            "/usr/local/lib/python3.7/dist-packages/ipykernel_launcher.py:1: SettingWithCopyWarning: \n",
            "A value is trying to be set on a copy of a slice from a DataFrame\n",
            "\n",
            "See the caveats in the documentation: https://pandas.pydata.org/pandas-docs/stable/user_guide/indexing.html#returning-a-view-versus-a-copy\n",
            "  \"\"\"Entry point for launching an IPython kernel.\n"
          ]
        }
      ]
    },
    {
      "cell_type": "code",
      "metadata": {
        "id": "ma8DWxIgRX6u",
        "colab": {
          "base_uri": "https://localhost:8080/"
        },
        "outputId": "1f392dde-e9ed-4165-c25d-b678f98abbb1"
      },
      "source": [
        "person_final_df_ml['SEX']= le.fit_transform(person_final_df_ml['SEX'])\n",
        "person_final_df_ml['Age Group']= le.fit_transform(person_final_df_ml['Age Group'])\n",
        "person_final_df_ml['SEATING_POSITION']= le.fit_transform(person_final_df_ml['SEATING_POSITION'])\n",
        "person_final_df_ml['HELMET_BELT_WORN']= le.fit_transform(person_final_df_ml['HELMET_BELT_WORN'])\n",
        "person_final_df_ml['ROAD_USER_TYPE']= le.fit_transform(person_final_df_ml['ROAD_USER_TYPE'])\n",
        "person_final_df_ml['INJ_LEVEL']= le.fit_transform(person_final_df_ml['INJ_LEVEL'])"
      ],
      "execution_count": null,
      "outputs": [
        {
          "output_type": "stream",
          "name": "stderr",
          "text": [
            "/usr/local/lib/python3.7/dist-packages/ipykernel_launcher.py:1: SettingWithCopyWarning: \n",
            "A value is trying to be set on a copy of a slice from a DataFrame.\n",
            "Try using .loc[row_indexer,col_indexer] = value instead\n",
            "\n",
            "See the caveats in the documentation: https://pandas.pydata.org/pandas-docs/stable/user_guide/indexing.html#returning-a-view-versus-a-copy\n",
            "  \"\"\"Entry point for launching an IPython kernel.\n",
            "/usr/local/lib/python3.7/dist-packages/ipykernel_launcher.py:2: SettingWithCopyWarning: \n",
            "A value is trying to be set on a copy of a slice from a DataFrame.\n",
            "Try using .loc[row_indexer,col_indexer] = value instead\n",
            "\n",
            "See the caveats in the documentation: https://pandas.pydata.org/pandas-docs/stable/user_guide/indexing.html#returning-a-view-versus-a-copy\n",
            "  \n",
            "/usr/local/lib/python3.7/dist-packages/ipykernel_launcher.py:3: SettingWithCopyWarning: \n",
            "A value is trying to be set on a copy of a slice from a DataFrame.\n",
            "Try using .loc[row_indexer,col_indexer] = value instead\n",
            "\n",
            "See the caveats in the documentation: https://pandas.pydata.org/pandas-docs/stable/user_guide/indexing.html#returning-a-view-versus-a-copy\n",
            "  This is separate from the ipykernel package so we can avoid doing imports until\n",
            "/usr/local/lib/python3.7/dist-packages/ipykernel_launcher.py:4: SettingWithCopyWarning: \n",
            "A value is trying to be set on a copy of a slice from a DataFrame.\n",
            "Try using .loc[row_indexer,col_indexer] = value instead\n",
            "\n",
            "See the caveats in the documentation: https://pandas.pydata.org/pandas-docs/stable/user_guide/indexing.html#returning-a-view-versus-a-copy\n",
            "  after removing the cwd from sys.path.\n",
            "/usr/local/lib/python3.7/dist-packages/ipykernel_launcher.py:5: SettingWithCopyWarning: \n",
            "A value is trying to be set on a copy of a slice from a DataFrame.\n",
            "Try using .loc[row_indexer,col_indexer] = value instead\n",
            "\n",
            "See the caveats in the documentation: https://pandas.pydata.org/pandas-docs/stable/user_guide/indexing.html#returning-a-view-versus-a-copy\n",
            "  \"\"\"\n",
            "/usr/local/lib/python3.7/dist-packages/ipykernel_launcher.py:6: SettingWithCopyWarning: \n",
            "A value is trying to be set on a copy of a slice from a DataFrame.\n",
            "Try using .loc[row_indexer,col_indexer] = value instead\n",
            "\n",
            "See the caveats in the documentation: https://pandas.pydata.org/pandas-docs/stable/user_guide/indexing.html#returning-a-view-versus-a-copy\n",
            "  \n"
          ]
        }
      ]
    },
    {
      "cell_type": "code",
      "metadata": {
        "colab": {
          "base_uri": "https://localhost:8080/",
          "height": 237
        },
        "id": "boTDfEFZVbhd",
        "outputId": "b054a9c0-3d99-4512-838f-28be5505a114"
      },
      "source": [
        "# Checking correlation for injury level\n",
        "person_final_df_ml.corr()"
      ],
      "execution_count": 236,
      "outputs": [
        {
          "output_type": "execute_result",
          "data": {
            "text/html": [
              "<div>\n",
              "<style scoped>\n",
              "    .dataframe tbody tr th:only-of-type {\n",
              "        vertical-align: middle;\n",
              "    }\n",
              "\n",
              "    .dataframe tbody tr th {\n",
              "        vertical-align: top;\n",
              "    }\n",
              "\n",
              "    .dataframe thead th {\n",
              "        text-align: right;\n",
              "    }\n",
              "</style>\n",
              "<table border=\"1\" class=\"dataframe\">\n",
              "  <thead>\n",
              "    <tr style=\"text-align: right;\">\n",
              "      <th></th>\n",
              "      <th>SEX</th>\n",
              "      <th>Age Group</th>\n",
              "      <th>INJ_LEVEL</th>\n",
              "      <th>SEATING_POSITION</th>\n",
              "      <th>HELMET_BELT_WORN</th>\n",
              "      <th>ROAD_USER_TYPE</th>\n",
              "    </tr>\n",
              "  </thead>\n",
              "  <tbody>\n",
              "    <tr>\n",
              "      <th>SEX</th>\n",
              "      <td>1.000000</td>\n",
              "      <td>0.152495</td>\n",
              "      <td>0.111648</td>\n",
              "      <td>-0.053373</td>\n",
              "      <td>0.202868</td>\n",
              "      <td>0.170567</td>\n",
              "    </tr>\n",
              "    <tr>\n",
              "      <th>Age Group</th>\n",
              "      <td>0.152495</td>\n",
              "      <td>1.000000</td>\n",
              "      <td>0.027702</td>\n",
              "      <td>-0.090082</td>\n",
              "      <td>0.083735</td>\n",
              "      <td>0.058304</td>\n",
              "    </tr>\n",
              "    <tr>\n",
              "      <th>INJ_LEVEL</th>\n",
              "      <td>0.111648</td>\n",
              "      <td>0.027702</td>\n",
              "      <td>1.000000</td>\n",
              "      <td>0.057587</td>\n",
              "      <td>-0.030309</td>\n",
              "      <td>-0.110009</td>\n",
              "    </tr>\n",
              "    <tr>\n",
              "      <th>SEATING_POSITION</th>\n",
              "      <td>-0.053373</td>\n",
              "      <td>-0.090082</td>\n",
              "      <td>0.057587</td>\n",
              "      <td>1.000000</td>\n",
              "      <td>-0.011488</td>\n",
              "      <td>0.189250</td>\n",
              "    </tr>\n",
              "    <tr>\n",
              "      <th>HELMET_BELT_WORN</th>\n",
              "      <td>0.202868</td>\n",
              "      <td>0.083735</td>\n",
              "      <td>-0.030309</td>\n",
              "      <td>-0.011488</td>\n",
              "      <td>1.000000</td>\n",
              "      <td>0.318950</td>\n",
              "    </tr>\n",
              "    <tr>\n",
              "      <th>ROAD_USER_TYPE</th>\n",
              "      <td>0.170567</td>\n",
              "      <td>0.058304</td>\n",
              "      <td>-0.110009</td>\n",
              "      <td>0.189250</td>\n",
              "      <td>0.318950</td>\n",
              "      <td>1.000000</td>\n",
              "    </tr>\n",
              "  </tbody>\n",
              "</table>\n",
              "</div>"
            ],
            "text/plain": [
              "                       SEX  Age Group  INJ_LEVEL  SEATING_POSITION  \\\n",
              "SEX               1.000000   0.152495   0.111648         -0.053373   \n",
              "Age Group         0.152495   1.000000   0.027702         -0.090082   \n",
              "INJ_LEVEL         0.111648   0.027702   1.000000          0.057587   \n",
              "SEATING_POSITION -0.053373  -0.090082   0.057587          1.000000   \n",
              "HELMET_BELT_WORN  0.202868   0.083735  -0.030309         -0.011488   \n",
              "ROAD_USER_TYPE    0.170567   0.058304  -0.110009          0.189250   \n",
              "\n",
              "                  HELMET_BELT_WORN  ROAD_USER_TYPE  \n",
              "SEX                       0.202868        0.170567  \n",
              "Age Group                 0.083735        0.058304  \n",
              "INJ_LEVEL                -0.030309       -0.110009  \n",
              "SEATING_POSITION         -0.011488        0.189250  \n",
              "HELMET_BELT_WORN          1.000000        0.318950  \n",
              "ROAD_USER_TYPE            0.318950        1.000000  "
            ]
          },
          "metadata": {},
          "execution_count": 236
        }
      ]
    },
    {
      "cell_type": "code",
      "metadata": {
        "id": "dridzMuvNiHU"
      },
      "source": [
        "X = person_final_df_ml.loc[:,person_final_df_ml.columns != 'INJ_LEVEL']\n",
        "y = person_final_df_ml.loc[:,person_final_df_ml.columns == 'INJ_LEVEL']"
      ],
      "execution_count": 237,
      "outputs": []
    },
    {
      "cell_type": "code",
      "metadata": {
        "id": "AARS1wxn7Gzi"
      },
      "source": [
        "X_train_person, X_test_person, y_train_person, y_test_person = train_test_split(X, y, test_size=0.2, random_state=42)"
      ],
      "execution_count": 238,
      "outputs": []
    },
    {
      "cell_type": "markdown",
      "metadata": {
        "id": "2QyT--1GVuFy"
      },
      "source": [
        "## Logistic Regression"
      ]
    },
    {
      "cell_type": "code",
      "metadata": {
        "colab": {
          "base_uri": "https://localhost:8080/"
        },
        "id": "rN1TiSIKVxms",
        "outputId": "9a94cec5-5a4a-4c94-8047-455fa2a593f8"
      },
      "source": [
        "clf = LogisticRegression(random_state=0).fit(X_train_person, y_train_person)\n",
        "clf.score(X_train_person,y_train_person)"
      ],
      "execution_count": 241,
      "outputs": [
        {
          "output_type": "stream",
          "name": "stderr",
          "text": [
            "/usr/local/lib/python3.7/dist-packages/sklearn/utils/validation.py:760: DataConversionWarning: A column-vector y was passed when a 1d array was expected. Please change the shape of y to (n_samples, ), for example using ravel().\n",
            "  y = column_or_1d(y, warn=True)\n",
            "/usr/local/lib/python3.7/dist-packages/sklearn/linear_model/_logistic.py:940: ConvergenceWarning: lbfgs failed to converge (status=1):\n",
            "STOP: TOTAL NO. of ITERATIONS REACHED LIMIT.\n",
            "\n",
            "Increase the number of iterations (max_iter) or scale the data as shown in:\n",
            "    https://scikit-learn.org/stable/modules/preprocessing.html\n",
            "Please also refer to the documentation for alternative solver options:\n",
            "    https://scikit-learn.org/stable/modules/linear_model.html#logistic-regression\n",
            "  extra_warning_msg=_LOGISTIC_SOLVER_CONVERGENCE_MSG)\n"
          ]
        },
        {
          "output_type": "execute_result",
          "data": {
            "text/plain": [
              "0.5100862822099368"
            ]
          },
          "metadata": {},
          "execution_count": 241
        }
      ]
    },
    {
      "cell_type": "code",
      "metadata": {
        "colab": {
          "base_uri": "https://localhost:8080/"
        },
        "id": "aOokPI0FWJgI",
        "outputId": "8c7e05d3-ee88-4c87-e742-3809d7062c4c"
      },
      "source": [
        "y_pred_clf = clf.predict(X_test_person)\n",
        "accuracy_score(y_test_person, y_pred_clf)"
      ],
      "execution_count": 243,
      "outputs": [
        {
          "output_type": "execute_result",
          "data": {
            "text/plain": [
              "0.5096734772340309"
            ]
          },
          "metadata": {},
          "execution_count": 243
        }
      ]
    },
    {
      "cell_type": "markdown",
      "metadata": {
        "id": "j4-dvq6WWtdC"
      },
      "source": [
        " Our accuracy score is 51% which is not acceptable."
      ]
    },
    {
      "cell_type": "code",
      "metadata": {
        "colab": {
          "base_uri": "https://localhost:8080/"
        },
        "id": "PL8MKctLXG2-",
        "outputId": "d2c18806-2c73-4d5a-f678-b2aa0da94ac2"
      },
      "source": [
        "print(classification_report(y_test_person,y_pred_clf))"
      ],
      "execution_count": 248,
      "outputs": [
        {
          "output_type": "stream",
          "name": "stdout",
          "text": [
            "              precision    recall  f1-score   support\n",
            "\n",
            "           0       0.00      0.00      0.00         4\n",
            "           1       0.00      0.00      0.00      1035\n",
            "           2       0.00      0.00      0.00     21454\n",
            "           3       0.46      0.46      0.46     52900\n",
            "           4       0.54      0.71      0.61     70263\n",
            "\n",
            "    accuracy                           0.51    145656\n",
            "   macro avg       0.20      0.23      0.21    145656\n",
            "weighted avg       0.43      0.51      0.46    145656\n",
            "\n"
          ]
        },
        {
          "output_type": "stream",
          "name": "stderr",
          "text": [
            "/usr/local/lib/python3.7/dist-packages/sklearn/metrics/_classification.py:1272: UndefinedMetricWarning: Precision and F-score are ill-defined and being set to 0.0 in labels with no predicted samples. Use `zero_division` parameter to control this behavior.\n",
            "  _warn_prf(average, modifier, msg_start, len(result))\n"
          ]
        }
      ]
    },
    {
      "cell_type": "markdown",
      "metadata": {
        "id": "rGYFGjXLVq2p"
      },
      "source": [
        "## XGBOOST"
      ]
    },
    {
      "cell_type": "code",
      "metadata": {
        "id": "KHCAUs6jSiIq",
        "colab": {
          "base_uri": "https://localhost:8080/"
        },
        "outputId": "8d42dc85-3a10-400f-e18c-30cf42eb8973"
      },
      "source": [
        "model = xgb.XGBRegressor().fit(X_train_person, y_train_person)"
      ],
      "execution_count": null,
      "outputs": [
        {
          "output_type": "stream",
          "name": "stdout",
          "text": [
            "[07:40:33] WARNING: /workspace/src/objective/regression_obj.cu:152: reg:linear is now deprecated in favor of reg:squarederror.\n"
          ]
        }
      ]
    },
    {
      "cell_type": "code",
      "metadata": {
        "id": "avXrIIgMtpmL"
      },
      "source": [
        "y_test_person = y_test_person.to_numpy()"
      ],
      "execution_count": null,
      "outputs": []
    },
    {
      "cell_type": "code",
      "metadata": {
        "id": "S_C2Yb0VSz-7",
        "colab": {
          "base_uri": "https://localhost:8080/"
        },
        "outputId": "32544522-2af3-43da-d55d-fff861dd6dad"
      },
      "source": [
        "xgb_pred = model.predict(X_test_person)\n",
        "model.score(X_train_person,y_train_person)"
      ],
      "execution_count": null,
      "outputs": [
        {
          "output_type": "execute_result",
          "data": {
            "text/plain": [
              "0.14628231560846494"
            ]
          },
          "metadata": {},
          "execution_count": 116
        }
      ]
    },
    {
      "cell_type": "code",
      "metadata": {
        "colab": {
          "base_uri": "https://localhost:8080/"
        },
        "id": "u9J__kJ5Qza6",
        "outputId": "9f88a084-e4a5-42a9-d924-5e22d926eb2f"
      },
      "source": [
        "rmse = np.sqrt(mean_squared_error(xgb_pred,y_test_person))\n",
        "print(\"RMSE: %f\" % (rmse))"
      ],
      "execution_count": null,
      "outputs": [
        {
          "output_type": "stream",
          "name": "stdout",
          "text": [
            "RMSE: 0.687291\n"
          ]
        }
      ]
    },
    {
      "cell_type": "markdown",
      "metadata": {
        "id": "PyzUOeUoYGiV"
      },
      "source": [
        "## RANDOM FOREST"
      ]
    },
    {
      "cell_type": "code",
      "metadata": {
        "colab": {
          "base_uri": "https://localhost:8080/"
        },
        "id": "kj0NYRNbYI9i",
        "outputId": "718bdbc4-cb37-4dc0-8f49-75d70d30806a"
      },
      "source": [
        "rnd_clf = RandomForestClassifier(n_estimators = 500, max_leaf_nodes = 16, n_jobs = -1)\n",
        "model_rfc = rnd_clf.fit(X_train_person, y_train_person)\n",
        "rnd_clf.score(X_train_person, y_train_person)"
      ],
      "execution_count": 250,
      "outputs": [
        {
          "output_type": "stream",
          "name": "stderr",
          "text": [
            "/usr/local/lib/python3.7/dist-packages/ipykernel_launcher.py:2: DataConversionWarning: A column-vector y was passed when a 1d array was expected. Please change the shape of y to (n_samples,), for example using ravel().\n",
            "  \n"
          ]
        },
        {
          "output_type": "execute_result",
          "data": {
            "text/plain": [
              "0.5565914836867065"
            ]
          },
          "metadata": {},
          "execution_count": 250
        }
      ]
    },
    {
      "cell_type": "code",
      "metadata": {
        "id": "bm-cbIUMacYS"
      },
      "source": [
        "y_test1 = y_test_person.to_numpy()\n",
        "y_test1 = y_test1.reshape(-1, 1)\n",
        "y_pred_rfc = model_rfc.predict(X_test_person)"
      ],
      "execution_count": 252,
      "outputs": []
    },
    {
      "cell_type": "code",
      "metadata": {
        "colab": {
          "base_uri": "https://localhost:8080/"
        },
        "id": "ikHFvZ5yaTKo",
        "outputId": "b87c527e-8db3-4ecc-fb6a-dc2415abc0e7"
      },
      "source": [
        "print(classification_report(y_test_person,y_pred_rfc))"
      ],
      "execution_count": 253,
      "outputs": [
        {
          "output_type": "stream",
          "name": "stdout",
          "text": [
            "              precision    recall  f1-score   support\n",
            "\n",
            "           0       0.00      0.00      0.00         4\n",
            "           1       0.00      0.00      0.00      1035\n",
            "           2       0.00      0.00      0.00     21454\n",
            "           3       0.50      0.49      0.50     52900\n",
            "           4       0.59      0.78      0.67     70263\n",
            "\n",
            "    accuracy                           0.56    145656\n",
            "   macro avg       0.22      0.26      0.23    145656\n",
            "weighted avg       0.47      0.56      0.51    145656\n",
            "\n"
          ]
        },
        {
          "output_type": "stream",
          "name": "stderr",
          "text": [
            "/usr/local/lib/python3.7/dist-packages/sklearn/metrics/_classification.py:1272: UndefinedMetricWarning: Precision and F-score are ill-defined and being set to 0.0 in labels with no predicted samples. Use `zero_division` parameter to control this behavior.\n",
            "  _warn_prf(average, modifier, msg_start, len(result))\n"
          ]
        }
      ]
    },
    {
      "cell_type": "markdown",
      "metadata": {
        "id": "s-0kGpkQa7r8"
      },
      "source": [
        "Random forest gives no different result"
      ]
    },
    {
      "cell_type": "markdown",
      "metadata": {
        "id": "_lXtGKvhbUmY"
      },
      "source": [
        "# ACCIDENT ML MODELS\n",
        "Subsetting person dataframe to use for ML\n",
        "- Label Encoding\n",
        "- Checking correlation\n",
        "- Checking if we can predict injury level of a person given the conditions"
      ]
    },
    {
      "cell_type": "markdown",
      "metadata": {
        "id": "18Hae7rttGWj"
      },
      "source": [
        "### LOGISTIC REGRESSION "
      ]
    },
    {
      "cell_type": "code",
      "metadata": {
        "id": "sbVLUucuVr56"
      },
      "source": [
        "accident_final_df_ml = accident_final_df.drop(['ACCIDENT_NO','ACCIDENTDATE','ACCIDENTTIME','EDITION','Accident Type Desc','Day Week Description','DCA Description','DIRECTORY','PAGE', 'GRID_REFERENCE_X','GRID_REFERENCE_Y','Light Condition Desc','NODE_ID','Road Geometry Desc','Postcode No'],axis = 1)"
      ],
      "execution_count": 256,
      "outputs": []
    },
    {
      "cell_type": "code",
      "metadata": {
        "id": "NMGzn8zgl_u_"
      },
      "source": [
        "# Assigning numerical values and storing in another column\n",
        "accident_final_df_ml['ROAD_TYPE'] = le.fit_transform(accident_final_df_ml['ROAD_TYPE'])\n",
        "accident_final_df_ml['LGA_NAME'] = le.fit_transform(accident_final_df_ml['LGA_NAME'])\n",
        "accident_final_df_ml['TIME_OF_DAY'] = le.fit_transform(accident_final_df_ml['TIME_OF_DAY'])\n",
        "accident_final_df_ml['season'] = le.fit_transform(accident_final_df_ml['season'])\n"
      ],
      "execution_count": 257,
      "outputs": []
    },
    {
      "cell_type": "code",
      "metadata": {
        "id": "MEs0EsOWmFry"
      },
      "source": [
        "# split into train test sets\n",
        "X = accident_final_df_ml.loc[:, accident_final_df_ml.columns != 'SEVERITY']\n",
        "y = accident_final_df_ml.loc[:, accident_final_df_ml.columns == 'SEVERITY']\n",
        "X_train, X_test, y_train, y_test = train_test_split(X, y, test_size=0.2, random_state=42)"
      ],
      "execution_count": 258,
      "outputs": []
    },
    {
      "cell_type": "code",
      "metadata": {
        "id": "A5RcMWJnUPTu",
        "colab": {
          "base_uri": "https://localhost:8080/"
        },
        "outputId": "8838e5e9-2633-4272-8597-450ae45ea77a"
      },
      "source": [
        "clf = LogisticRegression(random_state=0).fit(X_train, y_train)\n",
        "clf.score(X_train,y_train)"
      ],
      "execution_count": 259,
      "outputs": [
        {
          "output_type": "stream",
          "name": "stderr",
          "text": [
            "/usr/local/lib/python3.7/dist-packages/sklearn/utils/validation.py:760: DataConversionWarning: A column-vector y was passed when a 1d array was expected. Please change the shape of y to (n_samples, ), for example using ravel().\n",
            "  y = column_or_1d(y, warn=True)\n",
            "/usr/local/lib/python3.7/dist-packages/sklearn/linear_model/_logistic.py:940: ConvergenceWarning: lbfgs failed to converge (status=1):\n",
            "STOP: TOTAL NO. of ITERATIONS REACHED LIMIT.\n",
            "\n",
            "Increase the number of iterations (max_iter) or scale the data as shown in:\n",
            "    https://scikit-learn.org/stable/modules/preprocessing.html\n",
            "Please also refer to the documentation for alternative solver options:\n",
            "    https://scikit-learn.org/stable/modules/linear_model.html#logistic-regression\n",
            "  extra_warning_msg=_LOGISTIC_SOLVER_CONVERGENCE_MSG)\n"
          ]
        },
        {
          "output_type": "execute_result",
          "data": {
            "text/plain": [
              "0.8126969702022644"
            ]
          },
          "metadata": {},
          "execution_count": 259
        }
      ]
    },
    {
      "cell_type": "code",
      "metadata": {
        "id": "HFfxeRHaUYv4",
        "colab": {
          "base_uri": "https://localhost:8080/"
        },
        "outputId": "42cfbfc6-9b89-4c57-927c-dd4b79c31ae1"
      },
      "source": [
        "y_pred_clf = clf.predict(X_test)\n",
        "accuracy_score(y_test, y_pred_clf)"
      ],
      "execution_count": 260,
      "outputs": [
        {
          "output_type": "execute_result",
          "data": {
            "text/plain": [
              "0.8123426322722649"
            ]
          },
          "metadata": {},
          "execution_count": 260
        }
      ]
    },
    {
      "cell_type": "code",
      "metadata": {
        "colab": {
          "base_uri": "https://localhost:8080/"
        },
        "id": "B-KDMtR1bfye",
        "outputId": "3bcebfd5-b832-4877-f976-9dbd8ed3e737"
      },
      "source": [
        "print(classification_report(y_test,y_pred_clf))"
      ],
      "execution_count": 261,
      "outputs": [
        {
          "output_type": "stream",
          "name": "stdout",
          "text": [
            "              precision    recall  f1-score   support\n",
            "\n",
            "           1       0.03      0.02      0.02      1159\n",
            "           2       0.88      0.56      0.69     19691\n",
            "           3       0.81      0.96      0.88     39092\n",
            "           4       0.00      0.00      0.00        29\n",
            "\n",
            "    accuracy                           0.81     59971\n",
            "   macro avg       0.43      0.39      0.40     59971\n",
            "weighted avg       0.82      0.81      0.80     59971\n",
            "\n"
          ]
        },
        {
          "output_type": "stream",
          "name": "stderr",
          "text": [
            "/usr/local/lib/python3.7/dist-packages/sklearn/metrics/_classification.py:1272: UndefinedMetricWarning: Precision and F-score are ill-defined and being set to 0.0 in labels with no predicted samples. Use `zero_division` parameter to control this behavior.\n",
            "  _warn_prf(average, modifier, msg_start, len(result))\n"
          ]
        }
      ]
    },
    {
      "cell_type": "markdown",
      "metadata": {
        "id": "ZJ6EKdhyazls"
      },
      "source": [
        "### RANDOM FOREST"
      ]
    },
    {
      "cell_type": "code",
      "metadata": {
        "id": "tuFQHbEim1pw",
        "colab": {
          "base_uri": "https://localhost:8080/"
        },
        "outputId": "f6b74a43-b8f1-4790-92fb-a5443f7b4fba"
      },
      "source": [
        "rnd_clf = RandomForestClassifier(n_estimators = 500, max_leaf_nodes = 16, n_jobs = -1)\n",
        "model_rfc = rnd_clf.fit(X_train, y_train)\n",
        "rnd_clf.score(X_train, y_train)"
      ],
      "execution_count": 262,
      "outputs": [
        {
          "output_type": "stream",
          "name": "stderr",
          "text": [
            "/usr/local/lib/python3.7/dist-packages/ipykernel_launcher.py:2: DataConversionWarning: A column-vector y was passed when a 1d array was expected. Please change the shape of y to (n_samples,), for example using ravel().\n",
            "  \n"
          ]
        },
        {
          "output_type": "execute_result",
          "data": {
            "text/plain": [
              "0.9396333227726734"
            ]
          },
          "metadata": {},
          "execution_count": 262
        }
      ]
    },
    {
      "cell_type": "code",
      "metadata": {
        "id": "Mfmi1CoIy4QM"
      },
      "source": [
        "y_test1 = y_test.to_numpy()\n",
        "y_test1 = y_test1.reshape(-1, 1)"
      ],
      "execution_count": 263,
      "outputs": []
    },
    {
      "cell_type": "code",
      "metadata": {
        "id": "Av-HVHrqnZYX"
      },
      "source": [
        "y_pred_rfc = model_rfc.predict(X_test)"
      ],
      "execution_count": 264,
      "outputs": []
    },
    {
      "cell_type": "code",
      "metadata": {
        "id": "X-3M38Y80sGO"
      },
      "source": [
        "y_pred_rfc = y_pred_rfc.reshape(-1, 1)"
      ],
      "execution_count": 265,
      "outputs": []
    },
    {
      "cell_type": "code",
      "metadata": {
        "colab": {
          "base_uri": "https://localhost:8080/"
        },
        "id": "vljClAeY0zv4",
        "outputId": "a11d2839-9de8-4528-81ee-32ba1a1e5350"
      },
      "source": [
        "accuracy_score(y_pred_rfc, y_test1)"
      ],
      "execution_count": 266,
      "outputs": [
        {
          "output_type": "execute_result",
          "data": {
            "text/plain": [
              "0.9383368628170282"
            ]
          },
          "metadata": {},
          "execution_count": 266
        }
      ]
    },
    {
      "cell_type": "code",
      "metadata": {
        "colab": {
          "base_uri": "https://localhost:8080/"
        },
        "id": "c3HXxV30arkt",
        "outputId": "a921a7a8-1795-4517-c445-604240c6f695"
      },
      "source": [
        "rmse = np.sqrt(mean_squared_error(y_pred_rfc,y_test1))\n",
        "print(\"RMSE: %f\" % (rmse))"
      ],
      "execution_count": 267,
      "outputs": [
        {
          "output_type": "stream",
          "name": "stdout",
          "text": [
            "RMSE: 0.248321\n"
          ]
        }
      ]
    },
    {
      "cell_type": "code",
      "metadata": {
        "colab": {
          "base_uri": "https://localhost:8080/"
        },
        "id": "lWxKiGDrcWuu",
        "outputId": "f2dacd17-580b-4945-cdb9-a163adbddd62"
      },
      "source": [
        "print(classification_report(y_test,y_pred_rfc))"
      ],
      "execution_count": 269,
      "outputs": [
        {
          "output_type": "stream",
          "name": "stdout",
          "text": [
            "              precision    recall  f1-score   support\n",
            "\n",
            "           1       1.00      1.00      1.00      1159\n",
            "           2       0.91      0.91      0.91     19691\n",
            "           3       0.95      0.95      0.95     39092\n",
            "           4       0.00      0.00      0.00        29\n",
            "\n",
            "    accuracy                           0.94     59971\n",
            "   macro avg       0.71      0.71      0.71     59971\n",
            "weighted avg       0.94      0.94      0.94     59971\n",
            "\n"
          ]
        },
        {
          "output_type": "stream",
          "name": "stderr",
          "text": [
            "/usr/local/lib/python3.7/dist-packages/sklearn/metrics/_classification.py:1272: UndefinedMetricWarning: Precision and F-score are ill-defined and being set to 0.0 in labels with no predicted samples. Use `zero_division` parameter to control this behavior.\n",
            "  _warn_prf(average, modifier, msg_start, len(result))\n"
          ]
        }
      ]
    },
    {
      "cell_type": "markdown",
      "metadata": {
        "id": "OuLp9O9MdJmC"
      },
      "source": [
        "Here we can observe than Random forest performs well, therefore it is by far the best fit"
      ]
    },
    {
      "cell_type": "markdown",
      "metadata": {
        "id": "44is3-1Ya3Ry"
      },
      "source": [
        "### XGBOOST"
      ]
    },
    {
      "cell_type": "code",
      "metadata": {
        "id": "ZSCmeYCEodO4"
      },
      "source": [
        "data_dmatrix = xgb.DMatrix(data=X,label=y)"
      ],
      "execution_count": 270,
      "outputs": []
    },
    {
      "cell_type": "code",
      "metadata": {
        "id": "VO4hTQGtqrJU"
      },
      "source": [
        "xg_reg = xgb.XGBRegressor(objective ='reg:linear', colsample_bytree = 0.3, learning_rate = 0.1,\n",
        "                max_depth = 5, alpha = 10, n_estimators = 10)"
      ],
      "execution_count": 271,
      "outputs": []
    },
    {
      "cell_type": "code",
      "metadata": {
        "id": "NR6rhcnNq9ea"
      },
      "source": [
        "X_train, X_test, y_train, y_test = train_test_split(X, y, test_size=0.2, random_state=123)"
      ],
      "execution_count": 272,
      "outputs": []
    },
    {
      "cell_type": "code",
      "metadata": {
        "id": "RsBfSII2rDdT",
        "colab": {
          "base_uri": "https://localhost:8080/"
        },
        "outputId": "3241a804-2776-46b4-9816-c4409bc5334d"
      },
      "source": [
        "xg_reg.fit(X_train,y_train)\n",
        "\n",
        "preds = xg_reg.predict(X_test)"
      ],
      "execution_count": 273,
      "outputs": [
        {
          "output_type": "stream",
          "name": "stdout",
          "text": [
            "[10:17:45] WARNING: /workspace/src/objective/regression_obj.cu:152: reg:linear is now deprecated in favor of reg:squarederror.\n"
          ]
        }
      ]
    },
    {
      "cell_type": "code",
      "metadata": {
        "id": "5TF_tHJwrFyl",
        "colab": {
          "base_uri": "https://localhost:8080/"
        },
        "outputId": "9486b7a8-7156-4705-88d6-9e4e871f6b82"
      },
      "source": [
        "rmse = np.sqrt(mean_squared_error(y_test, preds))\n",
        "print(\"RMSE: %f\" % (rmse * 100))"
      ],
      "execution_count": 274,
      "outputs": [
        {
          "output_type": "stream",
          "name": "stdout",
          "text": [
            "RMSE: 84.771877\n"
          ]
        }
      ]
    },
    {
      "cell_type": "markdown",
      "metadata": {
        "id": "D77PnhaDtc0O"
      },
      "source": [
        "### **ENSEMBLE**"
      ]
    },
    {
      "cell_type": "code",
      "metadata": {
        "id": "4jYw9Gc2rPxV",
        "colab": {
          "base_uri": "https://localhost:8080/"
        },
        "outputId": "8a1400fa-dc35-4d5c-b35c-a725be630cb4"
      },
      "source": [
        "model1 = DecisionTreeClassifier()\n",
        "model2 = KNeighborsClassifier()\n",
        "model3= LogisticRegression()\n",
        "\n",
        "model1.fit(X_train,y_train)\n",
        "model2.fit(X_train,y_train)\n",
        "model3.fit(X_train,y_train)\n"
      ],
      "execution_count": null,
      "outputs": [
        {
          "output_type": "stream",
          "name": "stderr",
          "text": [
            "/usr/local/lib/python3.7/dist-packages/ipykernel_launcher.py:6: DataConversionWarning: A column-vector y was passed when a 1d array was expected. Please change the shape of y to (n_samples, ), for example using ravel().\n",
            "  \n",
            "/usr/local/lib/python3.7/dist-packages/sklearn/utils/validation.py:760: DataConversionWarning: A column-vector y was passed when a 1d array was expected. Please change the shape of y to (n_samples, ), for example using ravel().\n",
            "  y = column_or_1d(y, warn=True)\n",
            "/usr/local/lib/python3.7/dist-packages/sklearn/linear_model/_logistic.py:940: ConvergenceWarning: lbfgs failed to converge (status=1):\n",
            "STOP: TOTAL NO. of ITERATIONS REACHED LIMIT.\n",
            "\n",
            "Increase the number of iterations (max_iter) or scale the data as shown in:\n",
            "    https://scikit-learn.org/stable/modules/preprocessing.html\n",
            "Please also refer to the documentation for alternative solver options:\n",
            "    https://scikit-learn.org/stable/modules/linear_model.html#logistic-regression\n",
            "  extra_warning_msg=_LOGISTIC_SOLVER_CONVERGENCE_MSG)\n"
          ]
        },
        {
          "output_type": "execute_result",
          "data": {
            "text/plain": [
              "LogisticRegression(C=1.0, class_weight=None, dual=False, fit_intercept=True,\n",
              "                   intercept_scaling=1, l1_ratio=None, max_iter=100,\n",
              "                   multi_class='auto', n_jobs=None, penalty='l2',\n",
              "                   random_state=None, solver='lbfgs', tol=0.0001, verbose=0,\n",
              "                   warm_start=False)"
            ]
          },
          "metadata": {},
          "execution_count": 135
        }
      ]
    },
    {
      "cell_type": "code",
      "metadata": {
        "id": "SYK_sOwkwG22",
        "colab": {
          "base_uri": "https://localhost:8080/"
        },
        "outputId": "55b6aa9d-97bc-45ff-9c4d-a0354d7309b7"
      },
      "source": [
        "model = VotingClassifier(estimators=[('dt', model1), ('knn', model2),('lr', model3)], voting='soft')\n",
        "model.fit(X_train,y_train)\n",
        "pred_vclf = model.predict(X_test)"
      ],
      "execution_count": null,
      "outputs": [
        {
          "output_type": "stream",
          "name": "stderr",
          "text": [
            "/usr/local/lib/python3.7/dist-packages/sklearn/preprocessing/_label.py:235: DataConversionWarning: A column-vector y was passed when a 1d array was expected. Please change the shape of y to (n_samples, ), for example using ravel().\n",
            "  y = column_or_1d(y, warn=True)\n",
            "/usr/local/lib/python3.7/dist-packages/sklearn/preprocessing/_label.py:268: DataConversionWarning: A column-vector y was passed when a 1d array was expected. Please change the shape of y to (n_samples, ), for example using ravel().\n",
            "  y = column_or_1d(y, warn=True)\n",
            "/usr/local/lib/python3.7/dist-packages/sklearn/linear_model/_logistic.py:940: ConvergenceWarning: lbfgs failed to converge (status=1):\n",
            "STOP: TOTAL NO. of ITERATIONS REACHED LIMIT.\n",
            "\n",
            "Increase the number of iterations (max_iter) or scale the data as shown in:\n",
            "    https://scikit-learn.org/stable/modules/preprocessing.html\n",
            "Please also refer to the documentation for alternative solver options:\n",
            "    https://scikit-learn.org/stable/modules/linear_model.html#logistic-regression\n",
            "  extra_warning_msg=_LOGISTIC_SOLVER_CONVERGENCE_MSG)\n"
          ]
        }
      ]
    },
    {
      "cell_type": "code",
      "metadata": {
        "id": "Yrf8NcpMvcBn",
        "colab": {
          "base_uri": "https://localhost:8080/"
        },
        "outputId": "7a85ff42-7bb0-4088-e0c7-a289605278a1"
      },
      "source": [
        "accuracy_score(pred_vclf,y_test)"
      ],
      "execution_count": null,
      "outputs": [
        {
          "output_type": "execute_result",
          "data": {
            "text/plain": [
              "0.8730553100665321"
            ]
          },
          "metadata": {},
          "execution_count": 137
        }
      ]
    },
    {
      "cell_type": "code",
      "metadata": {
        "colab": {
          "base_uri": "https://localhost:8080/"
        },
        "id": "hVcOCqwRdfDh",
        "outputId": "5ec6f5c5-f1a9-45a2-caa2-2b9af66bbd64"
      },
      "source": [
        "print(classification_report(y_test,pred_vclf))"
      ],
      "execution_count": 277,
      "outputs": [
        {
          "output_type": "stream",
          "name": "stdout",
          "text": [
            "              precision    recall  f1-score   support\n",
            "\n",
            "           1       1.00      0.30      0.46      1140\n",
            "           2       0.85      0.77      0.81     19626\n",
            "           3       0.88      0.94      0.91     39174\n",
            "           4       1.00      0.03      0.06        31\n",
            "\n",
            "    accuracy                           0.87     59971\n",
            "   macro avg       0.93      0.51      0.56     59971\n",
            "weighted avg       0.87      0.87      0.87     59971\n",
            "\n"
          ]
        }
      ]
    },
    {
      "cell_type": "markdown",
      "metadata": {
        "id": "rVdiD7ardi9F"
      },
      "source": [
        "Here we can see that precision is high for Ensamble, second only to Random Forest"
      ]
    },
    {
      "cell_type": "markdown",
      "metadata": {
        "id": "221GOTtia7yS"
      },
      "source": [
        "# VEHICLE TRIALS"
      ]
    },
    {
      "cell_type": "code",
      "metadata": {
        "id": "LdfgU8SJ0Omq"
      },
      "source": [
        "vehicle_df_ml = vehicle_final_df"
      ],
      "execution_count": null,
      "outputs": []
    },
    {
      "cell_type": "code",
      "metadata": {
        "id": "pT0Ts0yq0ott"
      },
      "source": [
        "vehicle_df_ml['VEHICLE_BODY_STYLE'] = vehicle_df_ml['VEHICLE_BODY_STYLE'].astype(\"string\")\n",
        "vehicle_df_ml['VEHICLE_MAKE'] = vehicle_df_ml['VEHICLE_MAKE'].astype(\"string\")\n",
        "vehicle_df_ml['Vehicle Type Desc'] = vehicle_df_ml['Vehicle Type Desc'].astype(\"string\")\n",
        "vehicle_df_ml['TRAFFIC_CONTROL'] = vehicle_df_ml['TRAFFIC_CONTROL'].astype(\"string\")\n",
        "vehicle_df_ml['Traffic Control Desc'] = vehicle_df_ml['Traffic Control Desc'].astype(\"string\")"
      ],
      "execution_count": null,
      "outputs": []
    },
    {
      "cell_type": "code",
      "metadata": {
        "id": "yv228-b43yqv"
      },
      "source": [
        "vehicle_df_ml.drop(columns=['ACCIDENT_NO'], axis=1, inplace= True)"
      ],
      "execution_count": null,
      "outputs": []
    },
    {
      "cell_type": "code",
      "metadata": {
        "id": "kojETkjy5ygE"
      },
      "source": [
        "vehicle_df_ml['VEHICLE_BODY_STYLE'] = le.fit_transform(vehicle_df_ml['VEHICLE_BODY_STYLE'])\n",
        "vehicle_df_ml['VEHICLE_MAKE'] = le.fit_transform(vehicle_df_ml['VEHICLE_MAKE'])\n",
        "vehicle_df_ml['Vehicle Type Desc'] = le.fit_transform(vehicle_df_ml['Vehicle Type Desc'])\n",
        "vehicle_df_ml['TRAFFIC_CONTROL'] = le.fit_transform(vehicle_df_ml['TRAFFIC_CONTROL'])\n",
        "vehicle_df_ml['Traffic Control Desc'] = le.fit_transform(vehicle_df_ml['Traffic Control Desc'])\n"
      ],
      "execution_count": null,
      "outputs": []
    },
    {
      "cell_type": "code",
      "metadata": {
        "id": "TufjeDyb2NEG"
      },
      "source": [
        "X = vehicle_df_ml.loc[:, vehicle_df_ml.columns != 'LEVEL_OF_DAMAGE']\n",
        "y = vehicle_df_ml.loc[:, vehicle_df_ml.columns == 'LEVEL_OF_DAMAGE']\n",
        "X_train, X_test, y_train, y_test = train_test_split(X, y, test_size=0.33, random_state=42)"
      ],
      "execution_count": 278,
      "outputs": []
    },
    {
      "cell_type": "markdown",
      "metadata": {
        "id": "jLm50GZfeNLL"
      },
      "source": [
        "## ENSEMBLE"
      ]
    },
    {
      "cell_type": "code",
      "metadata": {
        "id": "4a8VRmYR5ioz",
        "colab": {
          "base_uri": "https://localhost:8080/"
        },
        "outputId": "e6991e2a-b459-4245-8256-527852056d0b"
      },
      "source": [
        "model1.fit(X_train,y_train)\n",
        "model2.fit(X_train,y_train)\n",
        "model3.fit(X_train,y_train)\n",
        "\n",
        "model = VotingClassifier(estimators=[('dt', model1), ('knn', model2),('lr', model3)], voting='soft')\n",
        "model.fit(X_train,y_train)\n",
        "pred_vehicle = model.predict(X_test)"
      ],
      "execution_count": null,
      "outputs": [
        {
          "output_type": "stream",
          "name": "stderr",
          "text": [
            "/usr/local/lib/python3.7/dist-packages/ipykernel_launcher.py:2: DataConversionWarning: A column-vector y was passed when a 1d array was expected. Please change the shape of y to (n_samples, ), for example using ravel().\n",
            "  \n",
            "/usr/local/lib/python3.7/dist-packages/sklearn/utils/validation.py:760: DataConversionWarning: A column-vector y was passed when a 1d array was expected. Please change the shape of y to (n_samples, ), for example using ravel().\n",
            "  y = column_or_1d(y, warn=True)\n",
            "/usr/local/lib/python3.7/dist-packages/sklearn/linear_model/_logistic.py:940: ConvergenceWarning: lbfgs failed to converge (status=1):\n",
            "STOP: TOTAL NO. of ITERATIONS REACHED LIMIT.\n",
            "\n",
            "Increase the number of iterations (max_iter) or scale the data as shown in:\n",
            "    https://scikit-learn.org/stable/modules/preprocessing.html\n",
            "Please also refer to the documentation for alternative solver options:\n",
            "    https://scikit-learn.org/stable/modules/linear_model.html#logistic-regression\n",
            "  extra_warning_msg=_LOGISTIC_SOLVER_CONVERGENCE_MSG)\n",
            "/usr/local/lib/python3.7/dist-packages/sklearn/preprocessing/_label.py:235: DataConversionWarning: A column-vector y was passed when a 1d array was expected. Please change the shape of y to (n_samples, ), for example using ravel().\n",
            "  y = column_or_1d(y, warn=True)\n",
            "/usr/local/lib/python3.7/dist-packages/sklearn/preprocessing/_label.py:268: DataConversionWarning: A column-vector y was passed when a 1d array was expected. Please change the shape of y to (n_samples, ), for example using ravel().\n",
            "  y = column_or_1d(y, warn=True)\n",
            "/usr/local/lib/python3.7/dist-packages/sklearn/linear_model/_logistic.py:940: ConvergenceWarning: lbfgs failed to converge (status=1):\n",
            "STOP: TOTAL NO. of ITERATIONS REACHED LIMIT.\n",
            "\n",
            "Increase the number of iterations (max_iter) or scale the data as shown in:\n",
            "    https://scikit-learn.org/stable/modules/preprocessing.html\n",
            "Please also refer to the documentation for alternative solver options:\n",
            "    https://scikit-learn.org/stable/modules/linear_model.html#logistic-regression\n",
            "  extra_warning_msg=_LOGISTIC_SOLVER_CONVERGENCE_MSG)\n"
          ]
        }
      ]
    },
    {
      "cell_type": "code",
      "metadata": {
        "colab": {
          "base_uri": "https://localhost:8080/"
        },
        "id": "iGct9ABrOsge",
        "outputId": "7e1bb06e-ec0a-42e3-b198-1f6421c6d88f"
      },
      "source": [
        "accuracy_score(pred_vehicle,y_test)"
      ],
      "execution_count": null,
      "outputs": [
        {
          "output_type": "execute_result",
          "data": {
            "text/plain": [
              "0.2294437809904848"
            ]
          },
          "metadata": {},
          "execution_count": 144
        }
      ]
    },
    {
      "cell_type": "markdown",
      "metadata": {
        "id": "wsjm2qZMeIvP"
      },
      "source": [
        "##XGBOOST"
      ]
    },
    {
      "cell_type": "code",
      "metadata": {
        "id": "soQwS1il5sTO",
        "colab": {
          "base_uri": "https://localhost:8080/"
        },
        "outputId": "190ab140-1a2a-400f-d04a-ede5ff6a579d"
      },
      "source": [
        "xg_reg.fit(X_train,y_train)\n",
        "\n",
        "preds = xg_reg.predict(X_test)"
      ],
      "execution_count": null,
      "outputs": [
        {
          "output_type": "stream",
          "name": "stdout",
          "text": [
            "[07:46:39] WARNING: /workspace/src/objective/regression_obj.cu:152: reg:linear is now deprecated in favor of reg:squarederror.\n"
          ]
        }
      ]
    },
    {
      "cell_type": "code",
      "metadata": {
        "id": "bglwP5z261wd",
        "colab": {
          "base_uri": "https://localhost:8080/"
        },
        "outputId": "2f7310df-dc9a-4032-eafd-b2a57c8a83cf"
      },
      "source": [
        "rmse = np.sqrt(mean_squared_error(y_test, preds))\n",
        "print(\"RMSE: %f\" % (rmse))"
      ],
      "execution_count": null,
      "outputs": [
        {
          "output_type": "stream",
          "name": "stdout",
          "text": [
            "RMSE: 2.262373\n"
          ]
        }
      ]
    },
    {
      "cell_type": "markdown",
      "metadata": {
        "id": "v4GxPcbId2JM"
      },
      "source": [
        "## Logistic Regression"
      ]
    },
    {
      "cell_type": "code",
      "metadata": {
        "colab": {
          "base_uri": "https://localhost:8080/"
        },
        "id": "vbnY_cDqd1pY",
        "outputId": "ca311bc9-f5c2-4c0b-91f9-72e2b70c46ff"
      },
      "source": [
        "clf = LogisticRegression(random_state=0).fit(X_train, y_train)\n",
        "clf.score(X_train,y_train)"
      ],
      "execution_count": 279,
      "outputs": [
        {
          "output_type": "stream",
          "name": "stderr",
          "text": [
            "/usr/local/lib/python3.7/dist-packages/sklearn/utils/validation.py:760: DataConversionWarning: A column-vector y was passed when a 1d array was expected. Please change the shape of y to (n_samples, ), for example using ravel().\n",
            "  y = column_or_1d(y, warn=True)\n",
            "/usr/local/lib/python3.7/dist-packages/sklearn/linear_model/_logistic.py:940: ConvergenceWarning: lbfgs failed to converge (status=1):\n",
            "STOP: TOTAL NO. of ITERATIONS REACHED LIMIT.\n",
            "\n",
            "Increase the number of iterations (max_iter) or scale the data as shown in:\n",
            "    https://scikit-learn.org/stable/modules/preprocessing.html\n",
            "Please also refer to the documentation for alternative solver options:\n",
            "    https://scikit-learn.org/stable/modules/linear_model.html#logistic-regression\n",
            "  extra_warning_msg=_LOGISTIC_SOLVER_CONVERGENCE_MSG)\n"
          ]
        },
        {
          "output_type": "execute_result",
          "data": {
            "text/plain": [
              "0.21702902773749536"
            ]
          },
          "metadata": {},
          "execution_count": 279
        }
      ]
    },
    {
      "cell_type": "markdown",
      "metadata": {
        "id": "6JBQC91Weol5"
      },
      "source": [
        "## Random Forest"
      ]
    },
    {
      "cell_type": "code",
      "metadata": {
        "colab": {
          "base_uri": "https://localhost:8080/"
        },
        "id": "8w9OqWE5emQN",
        "outputId": "02321b15-f42c-494d-b302-705722abaa60"
      },
      "source": [
        "model_rfc = rnd_clf.fit(X_train, y_train)\n",
        "rnd_clf.score(X_train, y_train)"
      ],
      "execution_count": 280,
      "outputs": [
        {
          "output_type": "stream",
          "name": "stderr",
          "text": [
            "/usr/local/lib/python3.7/dist-packages/ipykernel_launcher.py:1: DataConversionWarning: A column-vector y was passed when a 1d array was expected. Please change the shape of y to (n_samples,), for example using ravel().\n",
            "  \"\"\"Entry point for launching an IPython kernel.\n"
          ]
        },
        {
          "output_type": "execute_result",
          "data": {
            "text/plain": [
              "0.2589618971980603"
            ]
          },
          "metadata": {},
          "execution_count": 280
        }
      ]
    }
  ]
}